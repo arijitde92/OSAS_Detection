{
 "cells": [
  {
   "cell_type": "markdown",
   "source": [
    "# Obstructive Sleep Apnea Syndrome (OSAS) Dataset Pre processing\n",
    "We use a publicly available dataset - [OSASUD](https://www.nature.com/articles/s41597-022-01272-y) (available [here](https://figshare.com/collections/A_dataset_of_stroke_unit_recordings_for_the_detection_of_Obstructive_Sleep_Apnea_Syndrome/5630890) to train a model to detect whether a patient is healthy or has any of the OSAS subtypes - HYPOPNEA, APNEA-CENTRAL, APNEA-OBSTRUCTIVE, APNEA-MIXED.\n",
    "Dataset reference-\n",
    "Bernardini A, Brunello A, Gigli GL, Montanari A, Saccomanno N. OSASUD: A dataset of stroke unit recordings for the detection of Obstructive Sleep Apnea Syndrome. Scientific Data. 2022 Apr;9(1):177. DOI: 10.1038/s41597-022-01272-y. PMID: 35440646; PMCID: PMC9018698."
   ],
   "metadata": {
    "collapsed": false
   },
   "id": "cb6cf1ced1f5ae5b"
  },
  {
   "cell_type": "markdown",
   "source": [
    "## Imports"
   ],
   "metadata": {
    "collapsed": false
   },
   "id": "7b522596f2d7baf8"
  },
  {
   "cell_type": "code",
   "execution_count": 73,
   "id": "000d278a-d281-46b3-93a7-086e473b5c2b",
   "metadata": {
    "ExecuteTime": {
     "end_time": "2023-10-31T13:53:50.441938Z",
     "start_time": "2023-10-31T13:53:50.435936600Z"
    }
   },
   "outputs": [],
   "source": [
    "# Necessary imports\n",
    "import pandas as pd\n",
    "import numpy as np\n",
    "import pickle\n",
    "import seaborn as sns\n",
    "from tqdm import tqdm\n",
    "from matplotlib import pyplot as plt\n",
    "from data_utils import create_patient_map_features, convert_to_numpy_dataset\n",
    "import heartpy as hp"
   ]
  },
  {
   "cell_type": "markdown",
   "source": [
    "## Data loading\n",
    "The data is a pandas dataframe stored in 'data' folder as a _.pickle_ file. We load it and display the first few rows and the datatypes of each column"
   ],
   "metadata": {
    "collapsed": false
   },
   "id": "92b210771eb6fea0"
  },
  {
   "cell_type": "code",
   "execution_count": 3,
   "id": "d938d661-e1b1-4acc-a519-b061951b5f53",
   "metadata": {
    "ExecuteTime": {
     "end_time": "2023-10-31T13:03:29.888326300Z",
     "start_time": "2023-10-31T13:03:11.733197900Z"
    }
   },
   "outputs": [],
   "source": [
    "# Path to the dataset (assuming it is in the same directory as the notebook)\n",
    "path = './data/dataset_OSAS.pickle'\n",
    "# Loading the dataset\n",
    "# dataset = pd.read_pickle(path)\n",
    "with open(path, 'rb') as file:\n",
    "    dataset = pickle.load(file)"
   ]
  },
  {
   "cell_type": "code",
   "execution_count": 4,
   "outputs": [
    {
     "data": {
      "text/plain": "       patient  timestamp_datetime  HR(bpm)  SpO2(%)  PI(%)  RR(rpm)  \\\n0            1 2019-07-29 21:00:36     63.0      NaN    NaN     12.0   \n1            1 2019-07-29 21:00:37     63.0      NaN    NaN     12.0   \n2            1 2019-07-29 21:00:38     64.0      NaN    NaN     12.0   \n3            1 2019-07-29 21:00:39     64.0      NaN    NaN     12.0   \n4            1 2019-07-29 21:00:40     64.0      NaN    NaN     12.0   \n...        ...                 ...      ...      ...    ...      ...   \n961352       9 2019-09-06 06:16:54     81.0     95.0   2.71     16.0   \n961353       9 2019-09-06 06:16:55     81.0     95.0   2.72     16.0   \n961354       9 2019-09-06 06:16:56     81.0     95.0   2.74     16.0   \n961355       9 2019-09-06 06:16:57     81.0     95.0   2.76     17.0   \n961356       9 2019-09-06 06:16:58     80.0     95.0   2.78     17.0   \n\n        PVCs(/min) event  anomaly  \\\n0              0.0  NONE    False   \n1              0.0  NONE    False   \n2              0.0  NONE    False   \n3              0.0  NONE    False   \n4              0.0  NONE    False   \n...            ...   ...      ...   \n961352         0.0  NONE    False   \n961353         0.0  NONE    False   \n961354         0.0  NONE    False   \n961355         0.0  NONE    False   \n961356         0.0  NONE    False   \n\n                                             signal_pleth  \\\n0       [nan, nan, nan, nan, nan, nan, nan, nan, nan, ...   \n1       [nan, nan, nan, nan, nan, nan, nan, nan, nan, ...   \n2       [nan, nan, nan, nan, nan, nan, nan, nan, nan, ...   \n3       [nan, nan, nan, nan, nan, nan, nan, nan, nan, ...   \n4       [nan, nan, nan, nan, nan, nan, nan, nan, nan, ...   \n...                                                   ...   \n961352  [131, 127, 125, 121, 117, 115, 113, 111, 109, ...   \n961353  [86, 84, 82, 80, 78, 78, 76, 74, 72, 72, 70, 7...   \n961354  [82, 88, 96, 104, 111, 117, 121, 127, 131, 133...   \n961355  [125, 119, 115, 111, 107, 107, 106, 102, 100, ...   \n961356  [86, 84, 82, 78, 74, 74, 72, 68, 64, 63, 61, 5...   \n\n                                             signal_ecg_i  \\\n0       [122, 121, 121, 120, 121, 123, 124, 125, 125, ...   \n1       [124, 125, 125, 124, 124, 124, 124, 124, 124, ...   \n2       [124, 124, 124, 124, 123, 124, 124, 124, 124, ...   \n3       [124, 124, 124, 124, 123, 124, 123, 123, 124, ...   \n4       [123, 124, 125, 124, 124, 124, 124, 124, 124, ...   \n...                                                   ...   \n961352  [127, 123, 128, 133, 131, 130, 131, 132, 131, ...   \n961353  [126, 122, 126, 124, 124, 127, 123, 126, 126, ...   \n961354  [126, 125, 125, 126, 123, 123, 127, 125, 126, ...   \n961355  [129, 122, 124, 128, 126, 128, 127, 128, 124, ...   \n961356  [124, 125, 125, 123, 129, 123, 130, 125, 131, ...   \n\n                                            signal_ecg_ii  \\\n0       [122, 121, 121, 120, 120, 122, 123, 124, 125, ...   \n1       [123, 124, 123, 123, 123, 122, 123, 123, 123, ...   \n2       [123, 124, 124, 124, 124, 124, 124, 124, 124, ...   \n3       [126, 126, 126, 126, 126, 125, 126, 126, 126, ...   \n4       [128, 127, 126, 125, 126, 127, 126, 125, 125, ...   \n...                                                   ...   \n961352  [125, 124, 125, 127, 129, 131, 132, 133, 134, ...   \n961353  [122, 120, 121, 122, 122, 123, 122, 123, 122, ...   \n961354  [123, 122, 123, 123, 122, 122, 123, 122, 123, ...   \n961355  [122, 124, 124, 125, 126, 126, 126, 128, 128, ...   \n961356  [120, 121, 122, 122, 123, 119, 123, 123, 123, ...   \n\n                                           signal_ecg_iii  \\\n0       [128, 128, 129, 128, 127, 127, 127, 128, 128, ...   \n1       [127, 127, 127, 127, 127, 126, 127, 128, 127, ...   \n2       [127, 128, 128, 128, 129, 128, 128, 128, 128, ...   \n3       [130, 130, 130, 130, 131, 129, 131, 131, 131, ...   \n4       [133, 131, 129, 129, 130, 131, 130, 130, 129, ...   \n...                                                   ...   \n961352  [126, 130, 126, 122, 126, 129, 129, 130, 132, ...   \n961353  [124, 126, 123, 126, 126, 124, 127, 125, 124, ...   \n961354  [125, 125, 126, 126, 127, 127, 124, 125, 125, ...   \n961355  [121, 130, 128, 126, 128, 126, 127, 129, 132, ...   \n961356  [124, 124, 125, 128, 122, 124, 121, 126, 120, ...   \n\n                                              PSG_Abdomen  \\\n0       [-0.8741500623767957, -0.9144675352463544, -0....   \n1       [-0.9881929400632088, -0.9477638031010281, -0....   \n2       [0.08614440036034249, 0.2516121296765992, 0.42...   \n3       [1.1531959630520392, 1.1005866213221034, 1.014...   \n4       [-0.42549812754662325, -0.5447443993201948, -0...   \n...                                                   ...   \n961352  [-1.9320951225069571, -1.9748028503102615, -1....   \n961353  [1.2616332699372026, 1.2624144004802997, 1.031...   \n961354  [-0.6046612870919951, -0.7915387836548428, -1....   \n961355  [0.9070176665285755, 1.3130150012151323, 1.595...   \n961356  [4.202816182027166, 4.57974154872517, 4.745143...   \n\n                                                 PSG_Flow  \\\n0       [-2.96563402995406, -2.9595796764374294, -2.95...   \n1       [-1.361721983810798, -0.5937676928280333, 0.10...   \n2       [1.106683267015266, 1.0603761242579164, 1.0141...   \n3       [-0.9214725025271104, -0.9771933825390473, -1....   \n4       [-1.035218708573095, -1.0000002320633845, -0.9...   \n...                                                   ...   \n961352  [-0.8905074271823522, -0.6970566985941882, -0....   \n961353  [-0.7244347160594141, -0.9816192982602411, -1....   \n961354  [-0.7980373881123031, -0.802442829186294, -0.8...   \n961355  [-0.7752126758462874, -0.7695465675833577, -0....   \n961356  [-0.8081561785849753, -0.808649696955632, -0.8...   \n\n                                             PSG_Position  \\\n0       [-0.47401902530550133, -0.4739045513646679, -0...   \n1       [-0.47401917910760316, -0.4739043984870266, -0...   \n2       [-0.4740193239619996, -0.47390425449218476, -0...   \n3       [-0.4740194604923075, -0.4739041187620709, -0....   \n4       [-0.47401958926922777, -0.47390399073098, -0.4...   \n...                                                   ...   \n961352  [-0.8119689723625771, -0.8106901225226955, -0....   \n961353  [-0.3727779079327947, -0.7602549701261998, -0....   \n961354  [-1.1731401507192798, -1.1927955492186522, -1....   \n961355  [-1.0267101021180547, -0.9712925346147463, -0....   \n961356  [-0.9617567435797648, -0.9014901293847726, -1....   \n\n                                                PSG_Snore  \\\n0       [0.07924500093530636, 0.03509163903208667, 0.1...   \n1       [0.1730628474409785, 0.05274774088651335, 0.07...   \n2       [0.17804040728101125, 0.11939900653197982, 0.1...   \n3       [0.04909074879934492, 0.1211243456818879, 0.20...   \n4       [0.020529048615559067, 0.5111613725192, 0.0863...   \n...                                                   ...   \n961352  [0.1527778523432962, 0.08275972256310686, 0.03...   \n961353  [0.199456605530088, 0.31400967952462544, 0.033...   \n961354  [0.033937160403873054, 0.036080969376315775, 0...   \n961355  [0.1527778523432968, 0.03393716040387378, 0.03...   \n961356  [0.22279598212348387, 0.26947473531027727, 0.1...   \n\n                                               PSG_Thorax  \n0       [-0.3731332842321416, -0.3840816526328088, -0....  \n1       [-0.3271092235750278, -0.34422787330023297, -0...  \n2       [-0.12950805941595078, -0.11899340882221601, -...  \n3       [0.014197466691675964, 0.05145753481049522, 0....  \n4       [-0.004534125269965855, -0.04243555140344553, ...  \n...                                                   ...  \n961352  [-0.7717241223399193, -0.7413117227735206, -0....  \n961353  [-0.46111251456845126, -0.4781256154575427, -0...  \n961354  [-0.7763082795296309, -0.7751135355108968, -0....  \n961355  [-0.7994530099169749, -0.7871986849101728, -0....  \n961356  [-0.596895779860778, -0.585016583963897, -0.57...  \n\n[961357 rows x 18 columns]",
      "text/html": "<div>\n<style scoped>\n    .dataframe tbody tr th:only-of-type {\n        vertical-align: middle;\n    }\n\n    .dataframe tbody tr th {\n        vertical-align: top;\n    }\n\n    .dataframe thead th {\n        text-align: right;\n    }\n</style>\n<table border=\"1\" class=\"dataframe\">\n  <thead>\n    <tr style=\"text-align: right;\">\n      <th></th>\n      <th>patient</th>\n      <th>timestamp_datetime</th>\n      <th>HR(bpm)</th>\n      <th>SpO2(%)</th>\n      <th>PI(%)</th>\n      <th>RR(rpm)</th>\n      <th>PVCs(/min)</th>\n      <th>event</th>\n      <th>anomaly</th>\n      <th>signal_pleth</th>\n      <th>signal_ecg_i</th>\n      <th>signal_ecg_ii</th>\n      <th>signal_ecg_iii</th>\n      <th>PSG_Abdomen</th>\n      <th>PSG_Flow</th>\n      <th>PSG_Position</th>\n      <th>PSG_Snore</th>\n      <th>PSG_Thorax</th>\n    </tr>\n  </thead>\n  <tbody>\n    <tr>\n      <th>0</th>\n      <td>1</td>\n      <td>2019-07-29 21:00:36</td>\n      <td>63.0</td>\n      <td>NaN</td>\n      <td>NaN</td>\n      <td>12.0</td>\n      <td>0.0</td>\n      <td>NONE</td>\n      <td>False</td>\n      <td>[nan, nan, nan, nan, nan, nan, nan, nan, nan, ...</td>\n      <td>[122, 121, 121, 120, 121, 123, 124, 125, 125, ...</td>\n      <td>[122, 121, 121, 120, 120, 122, 123, 124, 125, ...</td>\n      <td>[128, 128, 129, 128, 127, 127, 127, 128, 128, ...</td>\n      <td>[-0.8741500623767957, -0.9144675352463544, -0....</td>\n      <td>[-2.96563402995406, -2.9595796764374294, -2.95...</td>\n      <td>[-0.47401902530550133, -0.4739045513646679, -0...</td>\n      <td>[0.07924500093530636, 0.03509163903208667, 0.1...</td>\n      <td>[-0.3731332842321416, -0.3840816526328088, -0....</td>\n    </tr>\n    <tr>\n      <th>1</th>\n      <td>1</td>\n      <td>2019-07-29 21:00:37</td>\n      <td>63.0</td>\n      <td>NaN</td>\n      <td>NaN</td>\n      <td>12.0</td>\n      <td>0.0</td>\n      <td>NONE</td>\n      <td>False</td>\n      <td>[nan, nan, nan, nan, nan, nan, nan, nan, nan, ...</td>\n      <td>[124, 125, 125, 124, 124, 124, 124, 124, 124, ...</td>\n      <td>[123, 124, 123, 123, 123, 122, 123, 123, 123, ...</td>\n      <td>[127, 127, 127, 127, 127, 126, 127, 128, 127, ...</td>\n      <td>[-0.9881929400632088, -0.9477638031010281, -0....</td>\n      <td>[-1.361721983810798, -0.5937676928280333, 0.10...</td>\n      <td>[-0.47401917910760316, -0.4739043984870266, -0...</td>\n      <td>[0.1730628474409785, 0.05274774088651335, 0.07...</td>\n      <td>[-0.3271092235750278, -0.34422787330023297, -0...</td>\n    </tr>\n    <tr>\n      <th>2</th>\n      <td>1</td>\n      <td>2019-07-29 21:00:38</td>\n      <td>64.0</td>\n      <td>NaN</td>\n      <td>NaN</td>\n      <td>12.0</td>\n      <td>0.0</td>\n      <td>NONE</td>\n      <td>False</td>\n      <td>[nan, nan, nan, nan, nan, nan, nan, nan, nan, ...</td>\n      <td>[124, 124, 124, 124, 123, 124, 124, 124, 124, ...</td>\n      <td>[123, 124, 124, 124, 124, 124, 124, 124, 124, ...</td>\n      <td>[127, 128, 128, 128, 129, 128, 128, 128, 128, ...</td>\n      <td>[0.08614440036034249, 0.2516121296765992, 0.42...</td>\n      <td>[1.106683267015266, 1.0603761242579164, 1.0141...</td>\n      <td>[-0.4740193239619996, -0.47390425449218476, -0...</td>\n      <td>[0.17804040728101125, 0.11939900653197982, 0.1...</td>\n      <td>[-0.12950805941595078, -0.11899340882221601, -...</td>\n    </tr>\n    <tr>\n      <th>3</th>\n      <td>1</td>\n      <td>2019-07-29 21:00:39</td>\n      <td>64.0</td>\n      <td>NaN</td>\n      <td>NaN</td>\n      <td>12.0</td>\n      <td>0.0</td>\n      <td>NONE</td>\n      <td>False</td>\n      <td>[nan, nan, nan, nan, nan, nan, nan, nan, nan, ...</td>\n      <td>[124, 124, 124, 124, 123, 124, 123, 123, 124, ...</td>\n      <td>[126, 126, 126, 126, 126, 125, 126, 126, 126, ...</td>\n      <td>[130, 130, 130, 130, 131, 129, 131, 131, 131, ...</td>\n      <td>[1.1531959630520392, 1.1005866213221034, 1.014...</td>\n      <td>[-0.9214725025271104, -0.9771933825390473, -1....</td>\n      <td>[-0.4740194604923075, -0.4739041187620709, -0....</td>\n      <td>[0.04909074879934492, 0.1211243456818879, 0.20...</td>\n      <td>[0.014197466691675964, 0.05145753481049522, 0....</td>\n    </tr>\n    <tr>\n      <th>4</th>\n      <td>1</td>\n      <td>2019-07-29 21:00:40</td>\n      <td>64.0</td>\n      <td>NaN</td>\n      <td>NaN</td>\n      <td>12.0</td>\n      <td>0.0</td>\n      <td>NONE</td>\n      <td>False</td>\n      <td>[nan, nan, nan, nan, nan, nan, nan, nan, nan, ...</td>\n      <td>[123, 124, 125, 124, 124, 124, 124, 124, 124, ...</td>\n      <td>[128, 127, 126, 125, 126, 127, 126, 125, 125, ...</td>\n      <td>[133, 131, 129, 129, 130, 131, 130, 130, 129, ...</td>\n      <td>[-0.42549812754662325, -0.5447443993201948, -0...</td>\n      <td>[-1.035218708573095, -1.0000002320633845, -0.9...</td>\n      <td>[-0.47401958926922777, -0.47390399073098, -0.4...</td>\n      <td>[0.020529048615559067, 0.5111613725192, 0.0863...</td>\n      <td>[-0.004534125269965855, -0.04243555140344553, ...</td>\n    </tr>\n    <tr>\n      <th>...</th>\n      <td>...</td>\n      <td>...</td>\n      <td>...</td>\n      <td>...</td>\n      <td>...</td>\n      <td>...</td>\n      <td>...</td>\n      <td>...</td>\n      <td>...</td>\n      <td>...</td>\n      <td>...</td>\n      <td>...</td>\n      <td>...</td>\n      <td>...</td>\n      <td>...</td>\n      <td>...</td>\n      <td>...</td>\n      <td>...</td>\n    </tr>\n    <tr>\n      <th>961352</th>\n      <td>9</td>\n      <td>2019-09-06 06:16:54</td>\n      <td>81.0</td>\n      <td>95.0</td>\n      <td>2.71</td>\n      <td>16.0</td>\n      <td>0.0</td>\n      <td>NONE</td>\n      <td>False</td>\n      <td>[131, 127, 125, 121, 117, 115, 113, 111, 109, ...</td>\n      <td>[127, 123, 128, 133, 131, 130, 131, 132, 131, ...</td>\n      <td>[125, 124, 125, 127, 129, 131, 132, 133, 134, ...</td>\n      <td>[126, 130, 126, 122, 126, 129, 129, 130, 132, ...</td>\n      <td>[-1.9320951225069571, -1.9748028503102615, -1....</td>\n      <td>[-0.8905074271823522, -0.6970566985941882, -0....</td>\n      <td>[-0.8119689723625771, -0.8106901225226955, -0....</td>\n      <td>[0.1527778523432962, 0.08275972256310686, 0.03...</td>\n      <td>[-0.7717241223399193, -0.7413117227735206, -0....</td>\n    </tr>\n    <tr>\n      <th>961353</th>\n      <td>9</td>\n      <td>2019-09-06 06:16:55</td>\n      <td>81.0</td>\n      <td>95.0</td>\n      <td>2.72</td>\n      <td>16.0</td>\n      <td>0.0</td>\n      <td>NONE</td>\n      <td>False</td>\n      <td>[86, 84, 82, 80, 78, 78, 76, 74, 72, 72, 70, 7...</td>\n      <td>[126, 122, 126, 124, 124, 127, 123, 126, 126, ...</td>\n      <td>[122, 120, 121, 122, 122, 123, 122, 123, 122, ...</td>\n      <td>[124, 126, 123, 126, 126, 124, 127, 125, 124, ...</td>\n      <td>[1.2616332699372026, 1.2624144004802997, 1.031...</td>\n      <td>[-0.7244347160594141, -0.9816192982602411, -1....</td>\n      <td>[-0.3727779079327947, -0.7602549701261998, -0....</td>\n      <td>[0.199456605530088, 0.31400967952462544, 0.033...</td>\n      <td>[-0.46111251456845126, -0.4781256154575427, -0...</td>\n    </tr>\n    <tr>\n      <th>961354</th>\n      <td>9</td>\n      <td>2019-09-06 06:16:56</td>\n      <td>81.0</td>\n      <td>95.0</td>\n      <td>2.74</td>\n      <td>16.0</td>\n      <td>0.0</td>\n      <td>NONE</td>\n      <td>False</td>\n      <td>[82, 88, 96, 104, 111, 117, 121, 127, 131, 133...</td>\n      <td>[126, 125, 125, 126, 123, 123, 127, 125, 126, ...</td>\n      <td>[123, 122, 123, 123, 122, 122, 123, 122, 123, ...</td>\n      <td>[125, 125, 126, 126, 127, 127, 124, 125, 125, ...</td>\n      <td>[-0.6046612870919951, -0.7915387836548428, -1....</td>\n      <td>[-0.7980373881123031, -0.802442829186294, -0.8...</td>\n      <td>[-1.1731401507192798, -1.1927955492186522, -1....</td>\n      <td>[0.033937160403873054, 0.036080969376315775, 0...</td>\n      <td>[-0.7763082795296309, -0.7751135355108968, -0....</td>\n    </tr>\n    <tr>\n      <th>961355</th>\n      <td>9</td>\n      <td>2019-09-06 06:16:57</td>\n      <td>81.0</td>\n      <td>95.0</td>\n      <td>2.76</td>\n      <td>17.0</td>\n      <td>0.0</td>\n      <td>NONE</td>\n      <td>False</td>\n      <td>[125, 119, 115, 111, 107, 107, 106, 102, 100, ...</td>\n      <td>[129, 122, 124, 128, 126, 128, 127, 128, 124, ...</td>\n      <td>[122, 124, 124, 125, 126, 126, 126, 128, 128, ...</td>\n      <td>[121, 130, 128, 126, 128, 126, 127, 129, 132, ...</td>\n      <td>[0.9070176665285755, 1.3130150012151323, 1.595...</td>\n      <td>[-0.7752126758462874, -0.7695465675833577, -0....</td>\n      <td>[-1.0267101021180547, -0.9712925346147463, -0....</td>\n      <td>[0.1527778523432968, 0.03393716040387378, 0.03...</td>\n      <td>[-0.7994530099169749, -0.7871986849101728, -0....</td>\n    </tr>\n    <tr>\n      <th>961356</th>\n      <td>9</td>\n      <td>2019-09-06 06:16:58</td>\n      <td>80.0</td>\n      <td>95.0</td>\n      <td>2.78</td>\n      <td>17.0</td>\n      <td>0.0</td>\n      <td>NONE</td>\n      <td>False</td>\n      <td>[86, 84, 82, 78, 74, 74, 72, 68, 64, 63, 61, 5...</td>\n      <td>[124, 125, 125, 123, 129, 123, 130, 125, 131, ...</td>\n      <td>[120, 121, 122, 122, 123, 119, 123, 123, 123, ...</td>\n      <td>[124, 124, 125, 128, 122, 124, 121, 126, 120, ...</td>\n      <td>[4.202816182027166, 4.57974154872517, 4.745143...</td>\n      <td>[-0.8081561785849753, -0.808649696955632, -0.8...</td>\n      <td>[-0.9617567435797648, -0.9014901293847726, -1....</td>\n      <td>[0.22279598212348387, 0.26947473531027727, 0.1...</td>\n      <td>[-0.596895779860778, -0.585016583963897, -0.57...</td>\n    </tr>\n  </tbody>\n</table>\n<p>961357 rows × 18 columns</p>\n</div>"
     },
     "execution_count": 4,
     "metadata": {},
     "output_type": "execute_result"
    }
   ],
   "source": [
    "dataset"
   ],
   "metadata": {
    "collapsed": false,
    "ExecuteTime": {
     "end_time": "2023-10-31T13:03:30.073575700Z",
     "start_time": "2023-10-31T13:03:29.976485600Z"
    }
   }
  },
  {
   "cell_type": "markdown",
   "source": [
    "### Number of classes\n",
    "We display the class names that the model needs to classify"
   ],
   "metadata": {
    "collapsed": false
   }
  },
  {
   "cell_type": "code",
   "execution_count": 5,
   "outputs": [
    {
     "name": "stdout",
     "output_type": "stream",
     "text": [
      "['NONE' 'HYPOPNEA' 'APNEA-CENTRAL' 'APNEA-OBSTRUCTIVE' 'APNEA-MIXED']\n"
     ]
    }
   ],
   "source": [
    "num_classes = dataset['event'].unique()\n",
    "print(num_classes)"
   ],
   "metadata": {
    "collapsed": false,
    "ExecuteTime": {
     "end_time": "2023-10-31T13:03:30.226702600Z",
     "start_time": "2023-10-31T13:03:30.077576900Z"
    }
   }
  },
  {
   "cell_type": "markdown",
   "source": [
    "As we can see from above, this is a five class classification problem."
   ],
   "metadata": {
    "collapsed": false
   }
  },
  {
   "cell_type": "markdown",
   "source": [
    "Now we display some basic information about the dataset"
   ],
   "metadata": {
    "collapsed": false
   }
  },
  {
   "cell_type": "markdown",
   "source": [
    "## Patient wise re-assembly\n",
    "We create a python dictionary that has the patient id as keys and all the features are encoded as another dictionary which is the value of patient key."
   ],
   "metadata": {
    "collapsed": false
   }
  },
  {
   "cell_type": "code",
   "execution_count": 6,
   "outputs": [
    {
     "name": "stderr",
     "output_type": "stream",
     "text": [
      "Processed patients: 100%|██████████| 30/30 [00:18<00:00,  1.62it/s]\n"
     ]
    }
   ],
   "source": [
    "patient_map_features = create_patient_map_features(path)"
   ],
   "metadata": {
    "collapsed": false,
    "ExecuteTime": {
     "end_time": "2023-10-31T13:04:42.107256200Z",
     "start_time": "2023-10-31T13:03:30.119623600Z"
    }
   }
  },
  {
   "cell_type": "markdown",
   "source": [
    "## Converting to Numpy Array"
   ],
   "metadata": {
    "collapsed": false
   }
  },
  {
   "cell_type": "code",
   "execution_count": 7,
   "id": "299d1b20-2681-4e2d-9eb1-36080d77b7f1",
   "metadata": {
    "ExecuteTime": {
     "end_time": "2023-10-31T13:04:49.053526300Z",
     "start_time": "2023-10-31T13:04:42.180776400Z"
    }
   },
   "outputs": [
    {
     "name": "stderr",
     "output_type": "stream",
     "text": [
      "Processed patients:   7%|▋         | 2/30 [00:00<00:01, 16.59it/s]"
     ]
    },
    {
     "name": "stdout",
     "output_type": "stream",
     "text": [
      "Patient 1  >  Discarding the last 38 seconds.\n",
      "Patient 10  >  Discarding the last 18 seconds.\n",
      "Patient 11  >  Discarding the last 40 seconds.\n",
      "Patient 12  >  Discarding the last 26 seconds.\n"
     ]
    },
    {
     "name": "stderr",
     "output_type": "stream",
     "text": [
      "Processed patients:  20%|██        | 6/30 [00:00<00:01, 17.00it/s]"
     ]
    },
    {
     "name": "stdout",
     "output_type": "stream",
     "text": [
      "Patient 13  >  Discarding the last 16 seconds.\n",
      "Patient 14  >  Discarding the last 20 seconds.\n",
      "Patient 15  >  Discarding the last 45 seconds.\n",
      "Patient 16  >  Discarding the last 20 seconds.\n"
     ]
    },
    {
     "name": "stderr",
     "output_type": "stream",
     "text": [
      "Processed patients:  33%|███▎      | 10/30 [00:00<00:01, 17.29it/s]"
     ]
    },
    {
     "name": "stdout",
     "output_type": "stream",
     "text": [
      "Patient 17  >  Discarding the last 7 seconds.\n",
      "Patient 18  >  Discarding the last 55 seconds.\n",
      "Patient 2  >  Discarding the last 37 seconds.\n",
      "Patient 19  >  Discarding the last 11 seconds.\n"
     ]
    },
    {
     "name": "stderr",
     "output_type": "stream",
     "text": [
      "Processed patients:  47%|████▋     | 14/30 [00:00<00:01, 15.81it/s]"
     ]
    },
    {
     "name": "stdout",
     "output_type": "stream",
     "text": [
      "Patient 20  >  Discarding the last 13 seconds.\n",
      "Patient 21  >  Discarding the last 50 seconds.\n",
      "Patient 22  >  Discarding the last 32 seconds.\n",
      "Patient 23  >  Discarding the last 6 seconds.\n"
     ]
    },
    {
     "name": "stderr",
     "output_type": "stream",
     "text": [
      "Processed patients:  67%|██████▋   | 20/30 [00:01<00:00, 20.62it/s]"
     ]
    },
    {
     "name": "stdout",
     "output_type": "stream",
     "text": [
      "Patient 24  >  Discarding the last 32 seconds.\n",
      "Patient 25  >  Discarding the last 38 seconds.\n",
      "Patient 26  >  Discarding the last 53 seconds.\n",
      "Patient 3  >  Discarding the last 2 seconds.\n",
      "Patient 27  >  Discarding the last 32 seconds.\n",
      "Patient 28  >  Discarding the last 2 seconds.\n"
     ]
    },
    {
     "name": "stderr",
     "output_type": "stream",
     "text": [
      "Processed patients:  77%|███████▋  | 23/30 [00:01<00:00, 18.44it/s]"
     ]
    },
    {
     "name": "stdout",
     "output_type": "stream",
     "text": [
      "Patient 29  >  Discarding the last 58 seconds.\n",
      "Patient 30  >  Discarding the last 37 seconds.\n",
      "Patient 4  >  Discarding the last 17 seconds.\n"
     ]
    },
    {
     "name": "stderr",
     "output_type": "stream",
     "text": [
      "Processed patients:  90%|█████████ | 27/30 [00:01<00:00, 11.27it/s]"
     ]
    },
    {
     "name": "stdout",
     "output_type": "stream",
     "text": [
      "Patient 5  >  Discarding the last 41 seconds.\n",
      "Patient 6  >  Discarding the last 30 seconds.\n",
      "Patient 7  >  Discarding the last 28 seconds.\n",
      "Patient 8  >  Discarding the last 57 seconds.\n"
     ]
    },
    {
     "name": "stderr",
     "output_type": "stream",
     "text": [
      "Processed patients:  97%|█████████▋| 29/30 [00:02<00:00,  6.77it/s]"
     ]
    },
    {
     "name": "stdout",
     "output_type": "stream",
     "text": [
      "Patient 9  >  Discarding the last 16 seconds.\n"
     ]
    },
    {
     "name": "stderr",
     "output_type": "stream",
     "text": [
      "Processed patients: 100%|██████████| 30/30 [00:02<00:00, 11.10it/s]\n"
     ]
    },
    {
     "name": "stdout",
     "output_type": "stream",
     "text": [
      "(16008, 60, 5) (16008, 60, 80, 4) (16008, 60, 10, 5) (16008, 60, 2)\n",
      "16008 5 4 5 2\n"
     ]
    }
   ],
   "source": [
    "numpy_data_dict = convert_to_numpy_dataset(patient_map_features)"
   ]
  },
  {
   "cell_type": "code",
   "execution_count": 8,
   "outputs": [],
   "source": [
    "derived_data = numpy_data_dict['derived_data']\n",
    "waveform_data = numpy_data_dict['waveform_data']\n",
    "psg_data = numpy_data_dict['psg_data']\n",
    "label_data = numpy_data_dict['label_data']"
   ],
   "metadata": {
    "collapsed": false,
    "ExecuteTime": {
     "end_time": "2023-10-31T13:04:49.093535200Z",
     "start_time": "2023-10-31T13:04:49.065529300Z"
    }
   }
  },
  {
   "cell_type": "markdown",
   "source": [
    "## Data preprocessing"
   ],
   "metadata": {
    "collapsed": false
   },
   "id": "5ee1ffa1a2a34195"
  },
  {
   "cell_type": "markdown",
   "source": [
    "### Checking Derived data"
   ],
   "metadata": {
    "collapsed": false
   },
   "id": "9c6b0c3ae0ee9a24"
  },
  {
   "cell_type": "code",
   "execution_count": 9,
   "outputs": [
    {
     "name": "stdout",
     "output_type": "stream",
     "text": [
      "Shape of derived data: (16008, 60, 5)\n"
     ]
    }
   ],
   "source": [
    "print(\"Shape of derived data:\", derived_data.shape)\n",
    "num_derived_features = derived_data.shape[-1]"
   ],
   "metadata": {
    "collapsed": false,
    "ExecuteTime": {
     "end_time": "2023-10-31T13:04:49.102538700Z",
     "start_time": "2023-10-31T13:04:49.094536200Z"
    }
   },
   "id": "81c6036d2d50d03e"
  },
  {
   "cell_type": "markdown",
   "source": [
    "There are five features in the derived data - ['HR(bpm)', 'SpO2(%)', 'PI(%)', 'RR(rpm)', 'PVCs(/min)']\n",
    "We will examine each of them separately"
   ],
   "metadata": {
    "collapsed": false
   }
  },
  {
   "cell_type": "markdown",
   "source": [
    "We will reshape the data such that it only contains rows of features only"
   ],
   "metadata": {
    "collapsed": false
   }
  },
  {
   "cell_type": "code",
   "execution_count": 10,
   "outputs": [
    {
     "name": "stdout",
     "output_type": "stream",
     "text": [
      "Reshaped derived data: (960480, 5)\n"
     ]
    }
   ],
   "source": [
    "derived_data = np.reshape(derived_data, (-1, num_derived_features))\n",
    "print(\"Reshaped derived data:\", derived_data.shape)"
   ],
   "metadata": {
    "collapsed": false,
    "ExecuteTime": {
     "end_time": "2023-10-31T13:04:49.188064600Z",
     "start_time": "2023-10-31T13:04:49.104537900Z"
    }
   }
  },
  {
   "cell_type": "markdown",
   "source": [
    "Finding NaN values and storing their row numbers"
   ],
   "metadata": {
    "collapsed": false
   }
  },
  {
   "cell_type": "code",
   "execution_count": 11,
   "outputs": [
    {
     "name": "stdout",
     "output_type": "stream",
     "text": [
      "Number of NaN samples in derived data: 146839\n"
     ]
    }
   ],
   "source": [
    "nan_indices = np.isnan(derived_data).any(axis=1)    # If any of the 5 features (values in axis 1) is NaN\n",
    "derived_nan_row_numbers = np.where(nan_indices == True)[0]\n",
    "print(\"Number of NaN samples in derived data:\", len(derived_nan_row_numbers))"
   ],
   "metadata": {
    "collapsed": false,
    "ExecuteTime": {
     "end_time": "2023-10-31T13:04:49.209068900Z",
     "start_time": "2023-10-31T13:04:49.161060Z"
    }
   }
  },
  {
   "cell_type": "markdown",
   "source": [
    "### Checking Waveform data"
   ],
   "metadata": {
    "collapsed": false
   }
  },
  {
   "cell_type": "code",
   "execution_count": 12,
   "outputs": [
    {
     "name": "stdout",
     "output_type": "stream",
     "text": [
      "Shape of waveform data: (16008, 60, 80, 4)\n",
      "Number of waveform features: 4\n"
     ]
    }
   ],
   "source": [
    "print(\"Shape of waveform data:\", waveform_data.shape)\n",
    "num_waveform_features = waveform_data.shape[-1]\n",
    "print(\"Number of waveform features:\", num_waveform_features)"
   ],
   "metadata": {
    "collapsed": false,
    "ExecuteTime": {
     "end_time": "2023-10-31T13:04:49.278587300Z",
     "start_time": "2023-10-31T13:04:49.213069Z"
    }
   }
  },
  {
   "cell_type": "markdown",
   "source": [
    "We will reshape the data such that it only contains rows of features only (80 x 4)."
   ],
   "metadata": {
    "collapsed": false
   }
  },
  {
   "cell_type": "code",
   "execution_count": 13,
   "outputs": [],
   "source": [
    "# Avera ge the 80 signals for each second into one signal.\n",
    "# Hence, we get one signal value for one second.\n",
    "\n",
    "waveform_data = np.reshape(waveform_data, (-1, 80, num_waveform_features))"
   ],
   "metadata": {
    "collapsed": false,
    "ExecuteTime": {
     "end_time": "2023-10-31T13:04:49.292589800Z",
     "start_time": "2023-10-31T13:04:49.223071500Z"
    }
   }
  },
  {
   "cell_type": "code",
   "execution_count": 14,
   "outputs": [
    {
     "name": "stdout",
     "output_type": "stream",
     "text": [
      "Number of NaN samples: 154706\n"
     ]
    }
   ],
   "source": [
    "nan_indices = np.isnan(waveform_data).any(axis=2)   # If any of the 4 features (values in axis 2) is NaN\n",
    "waveform_nan_row_numbers = np.where(np.any(nan_indices == True, axis=1))[0]\n",
    "print(\"Number of NaN samples:\", len(waveform_nan_row_numbers))"
   ],
   "metadata": {
    "collapsed": false,
    "ExecuteTime": {
     "end_time": "2023-10-31T13:04:49.974456900Z",
     "start_time": "2023-10-31T13:04:49.243579100Z"
    }
   }
  },
  {
   "cell_type": "markdown",
   "source": [
    "### Checking PSG data"
   ],
   "metadata": {
    "collapsed": false
   }
  },
  {
   "cell_type": "code",
   "execution_count": 15,
   "outputs": [
    {
     "name": "stdout",
     "output_type": "stream",
     "text": [
      "Shape of PSG data: (16008, 60, 10, 5)\n",
      "Number of PSG features: 5\n"
     ]
    }
   ],
   "source": [
    "print(\"Shape of PSG data:\", psg_data.shape)\n",
    "num_psg_features = psg_data.shape[-1]\n",
    "print(\"Number of PSG features:\", num_psg_features)"
   ],
   "metadata": {
    "collapsed": false,
    "ExecuteTime": {
     "end_time": "2023-10-31T13:04:49.989461400Z",
     "start_time": "2023-10-31T13:04:49.977457800Z"
    }
   }
  },
  {
   "cell_type": "code",
   "execution_count": 16,
   "outputs": [
    {
     "name": "stdout",
     "output_type": "stream",
     "text": [
      "Reshaped PSG data: (960480, 10, 5)\n"
     ]
    }
   ],
   "source": [
    "psg_data = np.reshape(psg_data, (-1, 10, num_psg_features))\n",
    "print(\"Reshaped PSG data:\", psg_data.shape)"
   ],
   "metadata": {
    "collapsed": false,
    "ExecuteTime": {
     "end_time": "2023-10-31T13:04:50.048977600Z",
     "start_time": "2023-10-31T13:04:49.990461800Z"
    }
   }
  },
  {
   "cell_type": "code",
   "execution_count": 17,
   "outputs": [
    {
     "name": "stdout",
     "output_type": "stream",
     "text": [
      "Number of NaN samples in psg data: 0\n"
     ]
    }
   ],
   "source": [
    "nan_indices = np.isnan(psg_data).any(axis=1)    # If any of the 5 features (values in axis 1) is NaN\n",
    "psg_nan_row_numbers = np.where(np.any(nan_indices == True, axis=1))[0]  # Get row numbers where any value in the 2nd dimension is True\n",
    "print(\"Number of NaN samples in psg data:\", len(psg_nan_row_numbers))"
   ],
   "metadata": {
    "collapsed": false,
    "ExecuteTime": {
     "end_time": "2023-10-31T13:04:50.112992800Z",
     "start_time": "2023-10-31T13:04:50.005464100Z"
    }
   }
  },
  {
   "cell_type": "markdown",
   "source": [
    "There are No NaN values in PSG data"
   ],
   "metadata": {
    "collapsed": false
   }
  },
  {
   "cell_type": "markdown",
   "source": [
    "### Label data\n",
    "Reshaping the label data to maintain the same number of rows as the feature arrays"
   ],
   "metadata": {
    "collapsed": false
   }
  },
  {
   "cell_type": "code",
   "execution_count": 18,
   "outputs": [
    {
     "name": "stdout",
     "output_type": "stream",
     "text": [
      "Reshaped label data shape: (960480, 2)\n"
     ]
    }
   ],
   "source": [
    "label_data = label_data.reshape((-1, label_data.shape[-1]))\n",
    "print(\"Reshaped label data shape:\", label_data.shape)"
   ],
   "metadata": {
    "collapsed": false,
    "ExecuteTime": {
     "end_time": "2023-10-31T13:04:50.158510100Z",
     "start_time": "2023-10-31T13:04:50.115993Z"
    }
   }
  },
  {
   "cell_type": "markdown",
   "source": [
    "### NaN Removal\n",
    "\n",
    "Now, we need to combine the derived, waveform and psg data such that any row in derived or waveform data that has NaN should be discarded.\n",
    "But the order should be maintained, i.e., if row x for derived data has NaN but row x for waveform does'nt, the entire row for derived, waveform and psg should be discarded. Hence, we take only those rows that have non-NaN values for all the three types of data."
   ],
   "metadata": {
    "collapsed": false
   }
  },
  {
   "cell_type": "code",
   "execution_count": 19,
   "outputs": [
    {
     "data": {
      "text/plain": "(170548,)"
     },
     "execution_count": 19,
     "metadata": {},
     "output_type": "execute_result"
    }
   ],
   "source": [
    "# Combine all the nan row numbers of the three datatypes into one list\n",
    "final_nan_row_numbers = np.concatenate((derived_nan_row_numbers, waveform_nan_row_numbers, psg_nan_row_numbers), axis=0)\n",
    "# Keep only the unique values (remove duplicates)\n",
    "final_nan_row_numbers = np.unique(final_nan_row_numbers)\n",
    "final_nan_row_numbers.shape"
   ],
   "metadata": {
    "collapsed": false,
    "ExecuteTime": {
     "end_time": "2023-10-31T13:04:50.204520300Z",
     "start_time": "2023-10-31T13:04:50.130998Z"
    }
   }
  },
  {
   "cell_type": "markdown",
   "source": [
    "Remove the rows indicated in `final_nan_row_numbers` from `derived_data`, `waveform_data`, `psg_data` and `label_data`"
   ],
   "metadata": {
    "collapsed": false
   }
  },
  {
   "cell_type": "code",
   "execution_count": 20,
   "outputs": [
    {
     "name": "stdout",
     "output_type": "stream",
     "text": [
      "Shapes\n",
      "Derived Data: (789932, 5)\n",
      "Waveform Data: (789932, 80, 4)\n",
      "PSG Data: (789932, 10, 5)\n",
      "Label Data: (789932, 2)\n"
     ]
    }
   ],
   "source": [
    "derived_data_cleaned = np.delete(derived_data, final_nan_row_numbers, axis=0)\n",
    "waveform_data_cleaned = np.delete(waveform_data, final_nan_row_numbers, axis=0)\n",
    "psg_data_cleaned = np.delete(psg_data,final_nan_row_numbers, axis=0)\n",
    "label_data_cleaned = np.delete(label_data, final_nan_row_numbers, axis=0)\n",
    "print(\"Shapes\")\n",
    "print(\"Derived Data:\", derived_data_cleaned.shape)\n",
    "print(\"Waveform Data:\", waveform_data_cleaned.shape)\n",
    "print(\"PSG Data:\", psg_data_cleaned.shape)\n",
    "print(\"Label Data:\", label_data_cleaned.shape)"
   ],
   "metadata": {
    "collapsed": false,
    "ExecuteTime": {
     "end_time": "2023-10-31T13:04:50.818202100Z",
     "start_time": "2023-10-31T13:04:50.195517400Z"
    }
   }
  },
  {
   "cell_type": "markdown",
   "source": [
    "### Outlier Removal"
   ],
   "metadata": {
    "collapsed": false
   }
  },
  {
   "cell_type": "markdown",
   "source": [
    "#### Outliers in Derived Data"
   ],
   "metadata": {
    "collapsed": false
   }
  },
  {
   "cell_type": "code",
   "execution_count": 21,
   "outputs": [
    {
     "data": {
      "text/plain": "<Axes: >"
     },
     "execution_count": 21,
     "metadata": {},
     "output_type": "execute_result"
    },
    {
     "data": {
      "text/plain": "<Figure size 640x480 with 1 Axes>",
      "image/png": "[encoded data removed]"
     },
     "metadata": {},
     "output_type": "display_data"
    }
   ],
   "source": [
    "sns.boxplot(data=derived_data_cleaned)"
   ],
   "metadata": {
    "collapsed": false,
    "ExecuteTime": {
     "end_time": "2023-10-31T13:04:53.072077300Z",
     "start_time": "2023-10-31T13:04:50.834206900Z"
    }
   }
  },
  {
   "cell_type": "markdown",
   "source": [
    "#### Outliers in Waveform Data"
   ],
   "metadata": {
    "collapsed": false
   }
  },
  {
   "cell_type": "code",
   "execution_count": 22,
   "outputs": [
    {
     "data": {
      "text/plain": "<Axes: >"
     },
     "execution_count": 22,
     "metadata": {},
     "output_type": "execute_result"
    },
    {
     "data": {
      "text/plain": "<Figure size 640x480 with 1 Axes>",
      "image/png": "[encoded data removed]"
     },
     "metadata": {},
     "output_type": "display_data"
    }
   ],
   "source": [
    "sns.boxplot(data=np.mean(waveform_data_cleaned, axis=1))"
   ],
   "metadata": {
    "collapsed": false,
    "ExecuteTime": {
     "end_time": "2023-10-31T13:04:54.324098900Z",
     "start_time": "2023-10-31T13:04:53.063075800Z"
    }
   }
  },
  {
   "cell_type": "markdown",
   "source": [
    "#### Outliers in PSG data"
   ],
   "metadata": {
    "collapsed": false
   }
  },
  {
   "cell_type": "code",
   "execution_count": 23,
   "outputs": [
    {
     "data": {
      "text/plain": "<Axes: >"
     },
     "execution_count": 23,
     "metadata": {},
     "output_type": "execute_result"
    },
    {
     "data": {
      "text/plain": "<Figure size 640x480 with 1 Axes>",
      "image/png": "[encoded data removed]"
     },
     "metadata": {},
     "output_type": "display_data"
    }
   ],
   "source": [
    "sns.boxplot(data=np.mean(psg_data_cleaned, axis=1))"
   ],
   "metadata": {
    "collapsed": false,
    "ExecuteTime": {
     "end_time": "2023-10-31T13:04:55.634876100Z",
     "start_time": "2023-10-31T13:04:54.327100200Z"
    }
   }
  },
  {
   "cell_type": "markdown",
   "source": [
    "#### Finding outliers"
   ],
   "metadata": {
    "collapsed": false
   }
  },
  {
   "cell_type": "code",
   "execution_count": 24,
   "outputs": [],
   "source": [
    "def find_outliers(array, max_deviations=2):\n",
    "    \"\"\"\n",
    "    Code courtesy: https://www.adamsmith.haus/python/answers/how-to-remove-outliers-from-a-numpy-array-in-python\n",
    "    :param array: numpy array from which we need to remove the outliers\n",
    "    :param max_deviations: number of standard deviations away from the mean by which an outlier is defined\n",
    "    :return: array without outliers\n",
    "    \"\"\"\n",
    "    num_features = array.shape[-1]\n",
    "    num_dimensions = len(array.shape)\n",
    "    mean = np.mean(array, axis=0)\n",
    "    standard_deviation = np.std(array, axis=0)\n",
    "    distance_from_mean = abs(array - mean)\n",
    "    max_deviations = 2\n",
    "    not_outlier = distance_from_mean < max_deviations * standard_deviation\n",
    "    # A value of True in not_outlier means the corresponding value in array is not an outlier, otherwise it is false.\n",
    "\n",
    "    # We need to find the row indices where atleast one of the value is False, i.e., that row contains an outlier, and we need to remove it.\n",
    "    outlier_row_indices = np.where((not_outlier == False).any(axis=1))\n",
    "    print(f\"Found {len(outlier_row_indices[0])} outliers\")\n",
    "    return outlier_row_indices"
   ],
   "metadata": {
    "collapsed": false,
    "ExecuteTime": {
     "end_time": "2023-10-31T13:04:55.724401300Z",
     "start_time": "2023-10-31T13:04:55.639877800Z"
    }
   }
  },
  {
   "cell_type": "code",
   "execution_count": 25,
   "outputs": [
    {
     "name": "stdout",
     "output_type": "stream",
     "text": [
      "Detecting outliers in derived data\n",
      "Found 140715 outliers\n",
      "Detecting outliers in waveform data\n",
      "Found 76957 outliers\n",
      "Detecting outliers in psg data\n",
      "Found 134655 outliers\n"
     ]
    }
   ],
   "source": [
    "print(\"Detecting outliers in derived data\")\n",
    "derived_outlier_row_numbers = find_outliers(derived_data_cleaned)\n",
    "\n",
    "# For waveform data since there are 80 x 4 values in each row, we need to find the mean of 80 values for each feature\n",
    "# and then the mean of each feature along all the data samples\n",
    "print(\"Detecting outliers in waveform data\")\n",
    "waveform_data_cleaned_squeezed = np.mean(waveform_data_cleaned, axis=1)\n",
    "waveform_outlier_row_numbers = find_outliers(waveform_data_cleaned_squeezed)\n",
    "\n",
    "# We follow the same averaging technique for psg data also.\n",
    "print(\"Detecting outliers in psg data\")\n",
    "psg_data_cleaned_squeezed = np.mean(psg_data_cleaned, axis=1)\n",
    "psg_outlier_row_numbers = find_outliers(psg_data_cleaned_squeezed)"
   ],
   "metadata": {
    "collapsed": false,
    "ExecuteTime": {
     "end_time": "2023-10-31T13:04:56.122027200Z",
     "start_time": "2023-10-31T13:04:55.651383700Z"
    }
   }
  },
  {
   "cell_type": "markdown",
   "source": [
    "#### Removing outliers"
   ],
   "metadata": {
    "collapsed": false
   }
  },
  {
   "cell_type": "code",
   "execution_count": 26,
   "outputs": [
    {
     "name": "stdout",
     "output_type": "stream",
     "text": [
      "Total number of rows containing outliers in any of the features: 291787\n",
      "Shapes after outlier removal\n",
      "Derived Data: (668693, 5)\n",
      "Waveform Data: (668693, 80, 4)\n",
      "PSG Data: (668693, 10, 5)\n",
      "Label Data: (668693, 2)\n"
     ]
    }
   ],
   "source": [
    "# Combine all the outlier row numbers of the three datatypes into one list\n",
    "final_outlier_row_numbers = np.concatenate((derived_outlier_row_numbers[0], waveform_outlier_row_numbers[0], psg_outlier_row_numbers[0]), axis=0)\n",
    "# Keep only the unique values (remove duplicates)\n",
    "final_outlier_row_numbers = np.unique(final_outlier_row_numbers)\n",
    "print(\"Total number of rows containing outliers in any of the features:\", len(final_outlier_row_numbers))\n",
    "\n",
    "derived_data_no_outlier = np.delete(derived_data, final_outlier_row_numbers, axis=0)\n",
    "waveform_data_no_outlier = np.delete(waveform_data, final_outlier_row_numbers, axis=0)\n",
    "psg_data_no_outlier = np.delete(psg_data,final_outlier_row_numbers, axis=0)\n",
    "label_data_no_outlier = np.delete(label_data, final_outlier_row_numbers, axis=0)\n",
    "print(\"Shapes after outlier removal\")\n",
    "print(\"Derived Data:\", derived_data_no_outlier.shape)\n",
    "print(\"Waveform Data:\", waveform_data_no_outlier.shape)\n",
    "print(\"PSG Data:\", psg_data_no_outlier.shape)\n",
    "print(\"Label Data:\", label_data_no_outlier.shape)"
   ],
   "metadata": {
    "collapsed": false,
    "ExecuteTime": {
     "end_time": "2023-10-31T13:04:56.931882Z",
     "start_time": "2023-10-31T13:04:56.127027900Z"
    }
   }
  },
  {
   "cell_type": "markdown",
   "source": [
    "## Saving cleaned and outlier removed data"
   ],
   "metadata": {
    "collapsed": false
   }
  },
  {
   "cell_type": "code",
   "execution_count": 27,
   "outputs": [],
   "source": [
    "cleaned_no_outlier_data = {'derived_data': derived_data_no_outlier,\n",
    "                           'waveform_data': waveform_data_no_outlier,\n",
    "                           'psg_data': psg_data_no_outlier,\n",
    "                           'label_data': label_data_no_outlier}\n",
    "\n",
    "with open('data/data_cleaned_no_outlier.pkl', 'wb') as file:\n",
    "    pickle.dump(cleaned_no_outlier_data, file)"
   ],
   "metadata": {
    "collapsed": false,
    "ExecuteTime": {
     "end_time": "2023-10-31T13:05:01.056582600Z",
     "start_time": "2023-10-31T13:04:56.938884Z"
    }
   }
  },
  {
   "cell_type": "markdown",
   "source": [
    "### Baseline wandering correction\n",
    "Baseline wandering correction is done using wavelets (Discrete wavelet transform). Refer to [https://github.com/spebern/py-bwr](https://github.com/spebern/py-bwr) for implementation details."
   ],
   "metadata": {
    "collapsed": false
   },
   "id": "9ce271d2b7cccc5f"
  },
  {
   "cell_type": "code",
   "execution_count": 81,
   "outputs": [
    {
     "name": "stdout",
     "output_type": "stream",
     "text": [
      "ECG Signal shape: (668693, 80)\n",
      "Reshaping into 1D array\n",
      "ECG Signal shape after reshaping: (53495440,)\n",
      "Segmenting the signals into lengths of 600000\n",
      "Correcting Baseline of signal\n"
     ]
    },
    {
     "name": "stderr",
     "output_type": "stream",
     "text": [
      "100%|██████████| 90/90 [00:02<00:00, 35.60it/s]\n"
     ]
    },
    {
     "name": "stdout",
     "output_type": "stream",
     "text": [
      "Length of previous filtered segment: 53400000\n",
      "Now indexing signal[53400000:]\n",
      "Length of segmented signal 95440\n",
      "Filtered segment: (53495440,)\n",
      "ECG Signal shape: (668693, 80)\n",
      "Reshaping into 1D array\n",
      "ECG Signal shape after reshaping: (53495440,)\n",
      "Segmenting the signals into lengths of 600000\n",
      "Correcting Baseline of signal\n"
     ]
    },
    {
     "name": "stderr",
     "output_type": "stream",
     "text": [
      "100%|██████████| 90/90 [00:02<00:00, 36.05it/s]\n"
     ]
    },
    {
     "name": "stdout",
     "output_type": "stream",
     "text": [
      "Length of previous filtered segment: 53400000\n",
      "Now indexing signal[53400000:]\n",
      "Length of segmented signal 95440\n",
      "Filtered segment: (53495440,)\n",
      "ECG Signal shape: (668693, 80)\n",
      "Reshaping into 1D array\n",
      "ECG Signal shape after reshaping: (53495440,)\n",
      "Segmenting the signals into lengths of 600000\n",
      "Correcting Baseline of signal\n"
     ]
    },
    {
     "name": "stderr",
     "output_type": "stream",
     "text": [
      "100%|██████████| 90/90 [00:02<00:00, 36.30it/s]\n"
     ]
    },
    {
     "name": "stdout",
     "output_type": "stream",
     "text": [
      "Length of previous filtered segment: 53400000\n",
      "Now indexing signal[53400000:]\n",
      "Length of segmented signal 95440\n",
      "Filtered segment: (53495440,)\n",
      "ECG Signal shape: (668693, 80)\n",
      "Reshaping into 1D array\n",
      "ECG Signal shape after reshaping: (53495440,)\n",
      "Segmenting the signals into lengths of 600000\n",
      "Correcting Baseline of signal\n"
     ]
    },
    {
     "name": "stderr",
     "output_type": "stream",
     "text": [
      "100%|██████████| 90/90 [00:02<00:00, 36.32it/s]\n"
     ]
    },
    {
     "name": "stdout",
     "output_type": "stream",
     "text": [
      "Length of previous filtered segment: 53400000\n",
      "Now indexing signal[53400000:]\n",
      "Length of segmented signal 95440\n",
      "Filtered segment: (53495440,)\n",
      "Shape of baseline corrected waveform data (668693, 80, 4)\n"
     ]
    }
   ],
   "source": [
    "num_features = waveform_data_no_outlier.shape[-1]\n",
    "ECG_SAMPLING_RATE = waveform_data_no_outlier.shape[1]\n",
    "WINDOW_LENGTH = 600000\n",
    "filtered_signals = []\n",
    "for i in range(num_features):\n",
    "    signal = waveform_data_no_outlier[:,:,i]\n",
    "    print(\"ECG Signal shape:\", signal.shape)\n",
    "    print(\"Reshaping into 1D array\")\n",
    "    signal = np.reshape(signal, (-1,))\n",
    "    print(\"ECG Signal shape after reshaping:\", signal.shape)\n",
    "    print(\"Segmenting the signals into lengths of\", WINDOW_LENGTH)\n",
    "    total_length = len(signal)\n",
    "    num_segments = total_length//WINDOW_LENGTH + 1\n",
    "    filtered_segments = []\n",
    "    print(\"Correcting Baseline of signal\")\n",
    "    for j in tqdm(range(num_segments)):\n",
    "        if j < num_segments-1:\n",
    "            segmented_signal = signal[j*WINDOW_LENGTH:(j+1)*WINDOW_LENGTH]\n",
    "        else:\n",
    "            # print(\"Length of previous filtered segment:\", len(filtered_segments))\n",
    "            # print(f\"Now indexing signal[{j*WINDOW_LENGTH}:]\")\n",
    "            segmented_signal = signal[j*WINDOW_LENGTH:]\n",
    "            # print(\"Length of segmented signal\", len(segmented_signal))\n",
    "        filtered = hp.remove_baseline_wander(segmented_signal, cutoff = 0.05, sample_rate = 80)\n",
    "        filtered_segments.extend(filtered)\n",
    "    print(\"Filtered segment:\",np.asarray(filtered_segments).shape)\n",
    "    filtered_signal = np.reshape(np.asarray(filtered_segments), (-1,))\n",
    "    filtered_signals.append(filtered_signal)\n",
    "waveform_data_baseline_corrected = np.moveaxis(np.reshape(np.asarray(filtered_signals), (num_features, 80, -1)), [0,2], [2, 0])\n",
    "print(\"Shape of baseline corrected waveform data\", waveform_data_baseline_corrected.shape)"
   ],
   "metadata": {
    "collapsed": false,
    "ExecuteTime": {
     "end_time": "2023-10-31T14:10:49.703652900Z",
     "start_time": "2023-10-31T14:10:24.165911100Z"
    }
   }
  },
  {
   "cell_type": "markdown",
   "source": [
    "### Saving Baseline corrected waveform data along with other data"
   ],
   "metadata": {
    "collapsed": false
   }
  },
  {
   "cell_type": "code",
   "execution_count": 82,
   "outputs": [],
   "source": [
    "cleaned_no_outlier_data = {'derived_data': derived_data_no_outlier,\n",
    "                           'waveform_data': waveform_data_baseline_corrected,\n",
    "                           'psg_data': psg_data_no_outlier,\n",
    "                           'label_data': label_data_no_outlier}\n",
    "\n",
    "with open('data/data_cleaned_no_outlier_baseline_corrected.pkl', 'wb') as file:\n",
    "    pickle.dump(cleaned_no_outlier_data, file)"
   ],
   "metadata": {
    "collapsed": false,
    "ExecuteTime": {
     "end_time": "2023-10-31T14:19:28.307585800Z",
     "start_time": "2023-10-31T14:19:21.668558700Z"
    }
   }
  },
  {
   "cell_type": "code",
   "execution_count": null,
   "outputs": [],
   "source": [
    "# from bwr import calc_baseline"
   ],
   "metadata": {
    "collapsed": false
   },
   "id": "8c3041eca53cc9a2"
  },
  {
   "cell_type": "code",
   "execution_count": null,
   "outputs": [],
   "source": [
    "# signal = patient_map_features['7']['signal_ecg_ii'][:10000]\n",
    "# # Call the BWR method\n",
    "# baseline = calc_baseline(signal)\n",
    "#\n",
    "# # Remove baseline from orgianl signal\n",
    "# ecg_out = signal - baseline\n",
    "# plt.figure(figsize=(20,6))\n",
    "# plt.subplot(2, 1, 1)\n",
    "# plt.plot(signal, \"b-\", label=\"signal\")\n",
    "# plt.plot(baseline, \"r-\", label=\"baseline\")\n",
    "# plt.legend()\n",
    "#\n",
    "# plt.subplot(2, 1, 2)\n",
    "# plt.plot(ecg_out, \"b-\", label=\"signal - baseline\")\n",
    "# plt.legend()\n",
    "# plt.show()"
   ],
   "metadata": {
    "collapsed": false
   },
   "id": "10638499916f9991"
  },
  {
   "cell_type": "markdown",
   "source": [
    "### Power Spectral density\n",
    "Calculated using Welch's method.\n",
    "P. Welch, “The use of the fast Fourier transform for the estimation of power spectra: A method based on time averaging over short, modified periodograms”, IEEE Trans. Audio Electroacoust. vol. 15, pp. 70-73, 1967.\n",
    "\n",
    "The implementation of the method is available at [SciPy](https://scipy.org/). Refer [here](https://docs.scipy.org/doc/scipy/reference/generated/scipy.signal.welch.html) for details."
   ],
   "metadata": {
    "collapsed": false
   },
   "id": "d61a4090e45c9c03"
  },
  {
   "cell_type": "code",
   "execution_count": null,
   "outputs": [],
   "source": [
    "# import scipy\n",
    "#\n",
    "# (f, S)= scipy.signal.welch(signal, fs=80, nperseg=1024) # fs = Sampling frequency, window = Hann Window by default, nperseg = Length of each segment.\n",
    "#\n",
    "# plt.semilogy(f, S)\n",
    "# plt.xlim([0, 100])\n",
    "# plt.xlabel('frequency [Hz]')\n",
    "# plt.ylabel('PSD [V**2/Hz]')\n",
    "# plt.show()"
   ],
   "metadata": {
    "collapsed": false
   },
   "id": "4f9282cabbfe7a98"
  },
  {
   "cell_type": "code",
   "execution_count": null,
   "outputs": [],
   "source": [
    "# f contains the frequency components\n",
    "# S is the PSD\n",
    "# (f, S) = scipy.signal.periodogram(signal, fs=80, scaling='density')\n",
    "#\n",
    "# plt.semilogy(f, S)\n",
    "# plt.ylim([1e-7, 1e2])\n",
    "# plt.xlim([0,100])\n",
    "# plt.xlabel('frequency [Hz]')\n",
    "# plt.ylabel('PSD [V**2/Hz]')\n",
    "# plt.show()"
   ],
   "metadata": {
    "collapsed": false
   },
   "id": "2e4532869eb14508"
  },
  {
   "cell_type": "markdown",
   "source": [],
   "metadata": {
    "collapsed": false
   }
  },
  {
   "cell_type": "code",
   "execution_count": null,
   "outputs": [],
   "source": [
    "disease_indices = label_data == True\n",
    "normal_indices = label_data == False\n",
    "binary_disease_indices = disease_indices[:, :, 1]\n",
    "# multi_disease_labels = np.isin(label_data, np.array(['HYPOPNEA', 'APNEA-CENTRAL', 'APNEA-OBSTRUCTIVE', 'APNEA-MIXED']))\n",
    "binary_normal_indices = normal_indices[:, :, 1]\n",
    "# multi_normal_indices = normal_indices"
   ],
   "metadata": {
    "collapsed": false
   },
   "id": "eaab0e746109f5c2"
  },
  {
   "cell_type": "code",
   "execution_count": null,
   "outputs": [],
   "source": [
    "print(\"Number of Apnea datapoints:\",disease_indices.sum())\n",
    "print(\"Number of healthy/normal data points:\", normal_indices.sum())"
   ],
   "metadata": {
    "collapsed": false
   },
   "id": "b5e664d659a9365f"
  },
  {
   "cell_type": "code",
   "execution_count": null,
   "outputs": [],
   "source": [
    "print(\"Label data shape:\", label_data.shape)\n",
    "print(\"Disease indices shape:\", disease_indices.shape)"
   ],
   "metadata": {
    "collapsed": false
   },
   "id": "7cb49d003a66abf2"
  },
  {
   "cell_type": "code",
   "execution_count": null,
   "outputs": [],
   "source": [
    "disease_waveform = waveform_data[binary_disease_indices]\n",
    "print(\"Shape of disease waveform data:\",disease_waveform.shape)\n",
    "disease_derived = derived_data[binary_disease_indices]\n",
    "print(\"Shape of disease derived data:\",disease_derived.shape)\n",
    "disease_psg = psg_data[binary_disease_indices]\n",
    "print(\"Shape of disease psg data:\",disease_psg.shape)"
   ],
   "metadata": {
    "collapsed": false
   },
   "id": "c5fa855b737fef42"
  },
  {
   "cell_type": "code",
   "execution_count": null,
   "outputs": [],
   "source": [
    "normal_waveform = waveform_data[binary_normal_indices]\n",
    "print(\"Shape of normal waveform data\",normal_waveform.shape)\n",
    "normal_derived = derived_data[binary_normal_indices]\n",
    "print(\"Shape of normal derived data:\", normal_derived.shape)\n",
    "normal_psg = psg_data[binary_normal_indices]\n",
    "print(\"Shape of normal psg data:\", normal_psg.shape)"
   ],
   "metadata": {
    "collapsed": false
   },
   "id": "391878f8235c3c18"
  },
  {
   "cell_type": "code",
   "execution_count": null,
   "outputs": [],
   "source": [
    "print(\"Balancing normal class by reducing the number of samples\")\n",
    "normal_waveform = normal_waveform[:disease_waveform.shape[0]]\n",
    "normal_derived = normal_derived[:disease_waveform.shape[0]]\n",
    "normal_psg = normal_psg[:disease_waveform.shape[0]]\n",
    "assert len(normal_psg) == len(normal_derived) == len(normal_waveform), \"Number of samples in waveform, derived and psg arrays do not match\"\n",
    "print(\"Number of samples after reduction:\", normal_waveform.shape)"
   ],
   "metadata": {
    "collapsed": false
   },
   "id": "29c73e61ff610c61"
  },
  {
   "cell_type": "code",
   "execution_count": null,
   "outputs": [],
   "source": [
    "binary_disease_labels = label_data[binary_disease_indices][:,1]\n",
    "multi_disease_labels = label_data[binary_disease_indices][:,0]\n",
    "\n",
    "binary_normal_labels = label_data[binary_normal_indices][:,1]\n",
    "binary_normal_labels = binary_normal_labels[:disease_waveform.shape[0]]\n",
    "# Changing True values to 1\n",
    "binary_disease_labels = 1 * binary_disease_labels\n",
    "# binary_normal_labels = binary_normal_labels.reshape(-1)\n",
    "\n",
    "# Changing True values to false values such that it becomes class value 0\n",
    "binary_normal_labels = binary_normal_labels*0\n",
    "print(\"Shape of binary normal labels:\",binary_normal_labels.shape)\n",
    "\n",
    "multi_normal_labels = label_data[binary_normal_indices][:,0]\n",
    "multi_normal_labels = multi_normal_labels[:disease_waveform.shape[0]]"
   ],
   "metadata": {
    "collapsed": false
   },
   "id": "3007be2f5099713a"
  },
  {
   "cell_type": "code",
   "execution_count": null,
   "outputs": [],
   "source": [
    "print(\"Shape of binary disease labels:\", binary_disease_labels.shape)\n",
    "print(\"Shape of binary normal labels:\", binary_normal_labels.shape)\n",
    "print(\"Shape of multi class disease labels:\", multi_disease_labels.shape)\n",
    "print(\"Shape of multi class normal labels:\", multi_disease_labels.shape)"
   ],
   "metadata": {
    "collapsed": false
   },
   "id": "a5853376aac6ce8d"
  },
  {
   "cell_type": "code",
   "execution_count": null,
   "outputs": [],
   "source": [
    "waveform_data = np.vstack((disease_waveform, normal_waveform))\n",
    "derived_data = np.vstack((disease_derived, normal_derived))\n",
    "psg_data = np.vstack((disease_psg, normal_psg))\n",
    "binary_label_data = np.hstack((binary_disease_labels, binary_normal_labels))\n",
    "multi_label_data = np.hstack((multi_disease_labels, multi_normal_labels))\n",
    "assert len(waveform_data) == len(derived_data) == len(psg_data) == len(binary_label_data) == len(multi_label_data), \"Number of samples in data and labels do not match\""
   ],
   "metadata": {
    "collapsed": false
   },
   "id": "a70902c83da5d7ef"
  },
  {
   "cell_type": "code",
   "execution_count": null,
   "outputs": [],
   "source": [
    "# plt.figure(figsize=(16,9))\n",
    "fig, (ax1, ax2) = plt.subplots(2,1, sharey=True, figsize=(16,9))\n",
    "ax1.plot(np.concatenate(disease_waveform[:160,:,2]))\n",
    "ax2.plot(np.concatenate(normal_waveform[:160,:,2]))"
   ],
   "metadata": {
    "collapsed": false
   },
   "id": "692c05512b2aaf34"
  },
  {
   "cell_type": "code",
   "execution_count": null,
   "outputs": [],
   "source": [
    "import os\n",
    "DATA_DIR = 'data'\n",
    "data_dict = {'derived':derived_data, 'waveform':waveform_data, 'psg':psg_data, 'binary_labels':binary_label_data, 'multi_label':multi_label_data}\n",
    "with open(os.path.join(DATA_DIR, \"osasud_numpy_dict.pkl\"), \"wb\") as f:\n",
    "    pickle.dump(data_dict, f, protocol=2)"
   ],
   "metadata": {
    "collapsed": false
   },
   "id": "4daba89e8fd930d8"
  },
  {
   "cell_type": "code",
   "execution_count": null,
   "outputs": [],
   "source": [],
   "metadata": {
    "collapsed": false
   },
   "id": "6daed42bde227913"
  }
 ],
 "metadata": {
  "kernelspec": {
   "display_name": "Python 3 (ipykernel)",
   "language": "python",
   "name": "python3"
  },
  "language_info": {
   "codemirror_mode": {
    "name": "ipython",
    "version": 3
   },
   "file_extension": ".py",
   "mimetype": "text/x-python",
   "name": "python",
   "nbconvert_exporter": "python",
   "pygments_lexer": "ipython3",
   "version": "3.10.11"
  }
 },
 "nbformat": 4,
 "nbformat_minor": 5
}
