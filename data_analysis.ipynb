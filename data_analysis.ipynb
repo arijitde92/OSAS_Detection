{
 "cells": [
  {
   "cell_type": "markdown",
   "source": [
    "# Obstructive Sleep Apnea Syndrome (OSAS) classification\n",
    "We use a publicly available dataset - [OSASUD](https://www.nature.com/articles/s41597-022-01272-y) (available [here](https://figshare.com/collections/A_dataset_of_stroke_unit_recordings_for_the_detection_of_Obstructive_Sleep_Apnea_Syndrome/5630890) to train a model to detect whether a patient is healthy or has any of the OSAS subtypes - HYPOPNEA, APNEA-CENTRAL, APNEA-OBSTRUCTIVE, APNEA-MIXED.\n",
    "Dataset reference-\n",
    "Bernardini A, Brunello A, Gigli GL, Montanari A, Saccomanno N. OSASUD: A dataset of stroke unit recordings for the detection of Obstructive Sleep Apnea Syndrome. Scientific Data. 2022 Apr;9(1):177. DOI: 10.1038/s41597-022-01272-y. PMID: 35440646; PMCID: PMC9018698."
   ],
   "metadata": {
    "collapsed": false
   }
  },
  {
   "cell_type": "markdown",
   "source": [
    "## Data Analysis\n",
    "We first load and analyze the data\n",
    "\n",
    "### Imports"
   ],
   "metadata": {
    "collapsed": false
   }
  },
  {
   "cell_type": "code",
   "execution_count": null,
   "metadata": {
    "collapsed": true
   },
   "outputs": [],
   "source": [
    "# Necessary imports\n",
    "import pandas as pd\n",
    "import numpy as np\n",
    "import pickle\n",
    "from tqdm.notebook import tqdm\n",
    "from matplotlib import pyplot as plt"
   ]
  },
  {
   "cell_type": "markdown",
   "source": [
    "### Data loading\n",
    "The data is a pandas dataframe stored in 'data' folder as a _.pickle_ file. We load it and display the first few rows and the datatypes of each column"
   ],
   "metadata": {
    "collapsed": false
   }
  },
  {
   "cell_type": "code",
   "execution_count": null,
   "outputs": [],
   "source": [
    "# Path to the dataset (assuming it is in the same directory as the notebook)\n",
    "path = './data/dataset_OSAS.pickle'\n",
    "\n",
    "# Loading the dataset\n",
    "with open(path, 'rb') as file:\n",
    "    dataset = pickle.load(file)\n",
    "\n",
    "display(dataset.head(40))\n",
    "\n",
    "display(dataset.dtypes)"
   ],
   "metadata": {
    "collapsed": false
   }
  },
  {
   "cell_type": "markdown",
   "source": [
    "### Number of classes\n",
    "We display the class names that the model needs to classify"
   ],
   "metadata": {
    "collapsed": false
   }
  },
  {
   "cell_type": "code",
   "execution_count": null,
   "outputs": [],
   "source": [
    "class_names = list(dataset['event'].unique())"
   ],
   "metadata": {
    "collapsed": false
   }
  },
  {
   "cell_type": "markdown",
   "source": [
    "As we can see from above, this is a five class classification problem."
   ],
   "metadata": {
    "collapsed": false
   }
  },
  {
   "cell_type": "markdown",
   "source": [
    "Now we display some basic information about the dataset"
   ],
   "metadata": {
    "collapsed": false
   }
  },
  {
   "cell_type": "code",
   "execution_count": null,
   "outputs": [],
   "source": [
    "print(\"Number of rows:\", dataset.shape[0])\n",
    "print(\"Number of columns:\", dataset.shape[1])\n",
    "print(\"Number of distinct patients:\", len(dataset['patient'].unique()))"
   ],
   "metadata": {
    "collapsed": false
   }
  },
  {
   "cell_type": "markdown",
   "source": [
    "### Create a summary of dataframe\n",
    "We create a summary about the dataframe containing the number of recorded hours, number of apnea, hypopnea events and information about null/missing values/"
   ],
   "metadata": {
    "collapsed": false
   }
  },
  {
   "cell_type": "code",
   "execution_count": null,
   "outputs": [],
   "source": [
    "# Function that, given an array of boolean values, outputs the \"begin_index\" and \"end_index\" of each contiguous block of TRUEs\n",
    "def one_runs(a):\n",
    "    iszero = np.concatenate(([0], np.equal(a, 1).astype(np.int8), [0]))\n",
    "    absdiff = np.abs(np.diff(iszero))\n",
    "    ranges = np.where(absdiff == 1)[0].reshape(-1, 2)\n",
    "    return ranges\n",
    "\n",
    "# Calculate validation data for each patient\n",
    "validation_pandas = []\n",
    "pbar = tqdm(desc=\"Processed patients\", total=len(dataset['patient'].unique()))\n",
    "for pat in np.unique(dataset['patient'])[np.argsort(np.unique(dataset['patient']).astype(np.int8))]:\n",
    "    temp = dataset[dataset['patient'] == pat]\n",
    "\n",
    "    tmp_null_pleth = np.asarray([np.isnan(x) for x in temp['signal_pleth']]).flatten()\n",
    "    tmp_null_ecg_i = np.asarray([np.isnan(x) for x in temp['signal_ecg_i']]).flatten()\n",
    "    tmp_null_ecg_ii = np.asarray([np.isnan(x) for x in temp['signal_ecg_ii']]).flatten()\n",
    "    tmp_null_ecg_iii = np.asarray([np.isnan(x) for x in temp['signal_ecg_iii']]).flatten()\n",
    "\n",
    "    pandas_row = [pat, # patient ID\n",
    "                  round(len(temp) / 3600, 1), # recording duration (hours)\n",
    "                  round(len(one_runs(temp['anomaly'].values)) / (len(temp) / 3600), 1), # AHI\n",
    "                  len(one_runs(temp[temp['event'] != 'HYPOPNEA']['anomaly'])), # number of apnea events\n",
    "                  len(one_runs(temp[(temp['event'] != 'APNEA-CENTRAL') & (temp['event'] != 'APNEA-MIXED') & (temp['event'] != 'APNEA-OBSTRUCTIVE')]['anomaly'])), # number of hypopnea events\n",
    "                  round(np.mean([x[1] - x[0] + 1 for x in one_runs(temp['anomaly'].values)])), # average duration of (hypo)apnea events (seconds)\n",
    "                  round(np.std([x[1] - x[0] + 1 for x in one_runs(temp['anomaly'].values)])), # standard deviation of the duration of (hypo)apnea events (seconds)\n",
    "                  round(100 * np.sum(np.isnan(temp['HR(bpm)'])) / len(temp), 1), # percentage of null HR values\n",
    "                  round(100 * np.sum(np.isnan(temp['SpO2(%)'])) / len(temp), 1), # percentage of null SpO2 values\n",
    "                  round(100 * np.sum(np.isnan(temp['PI(%)'])) / len(temp), 1), # percentage of null PI values\n",
    "                  round(100 * np.sum(np.isnan(temp['RR(rpm)'])) / len(temp), 1), # percentage of null RR values\n",
    "                  round(100 * np.sum(np.isnan(temp['PVCs(/min)'])) / len(temp), 1), # percentage of null PVC values\n",
    "                  round(100 * np.sum(tmp_null_pleth) / len(tmp_null_pleth), 1), # percentage of null pleth values,\n",
    "                  round(100 * np.sum(tmp_null_ecg_i) / len(tmp_null_ecg_i), 1), # percentage of null ecg i values,\n",
    "                  round(100 * np.sum(tmp_null_ecg_ii) / len(tmp_null_ecg_ii), 1), # percentage of null ecg ii values,\n",
    "                  round(100 * np.sum(tmp_null_ecg_iii) / len(tmp_null_ecg_iii), 1), # percentage of null ecg iii values\n",
    "                 ]\n",
    "\n",
    "    validation_pandas.append(pandas_row)\n",
    "\n",
    "    pbar.update(1)\n",
    "\n",
    "\n",
    "validation_pandas = pd.DataFrame(validation_pandas, columns=['patient',\n",
    "                                                             'recording duration (hrs)',\n",
    "                                                             'AHI',\n",
    "                                                             '# apnea events',\n",
    "                                                             '# hypopnea events',\n",
    "                                                             'avg duration (hypo)apnea events',\n",
    "                                                             'stddev duration (hypo)apnea events',\n",
    "                                                             '% null HR',\n",
    "                                                             '% null SpO2',\n",
    "                                                             '% null PI',\n",
    "                                                             '% null RR',\n",
    "                                                             '% null PVC',\n",
    "                                                             '% null pleth',\n",
    "                                                             '% null ecg i',\n",
    "                                                             '% null ecg ii',\n",
    "                                                             '% null ecg iii'\n",
    "                                                            ])\n",
    "\n",
    "display(validation_pandas)\n",
    "\n",
    "# Save the dataframe to a csv file\n",
    "# validation_pandas.to_csv('patient_data.csv')"
   ],
   "metadata": {
    "collapsed": false
   }
  },
  {
   "cell_type": "markdown",
   "source": [
    "### Patient wise box plot of features"
   ],
   "metadata": {
    "collapsed": false
   }
  },
  {
   "cell_type": "code",
   "execution_count": null,
   "outputs": [],
   "source": [
    "# Boxplots of the ECG and PPG derived data\n",
    "plt.figure(figsize=(20, 20))\n",
    "pbar = tqdm(desc=\"Processed features\", total=5)\n",
    "for i, column in enumerate(['HR(bpm)', 'SpO2(%)', 'PI(%)', 'RR(rpm)', 'PVCs(/min)']):\n",
    "    plt.subplot(5, 1, i+1)\n",
    "    plot_data = []\n",
    "    for pat in np.unique(dataset['patient'])[np.argsort(np.unique(dataset['patient']).astype(np.int8))]:\n",
    "        temp = dataset[dataset['patient'] == pat][column]\n",
    "        plot_data.append([x for x in list(temp.values) if not np.isnan(x)])\n",
    "    plt.boxplot(plot_data)\n",
    "    if i == 4:\n",
    "        plt.xlabel(\"Patient ID\")\n",
    "    plt.ylabel(column)\n",
    "    pbar.update(1)\n",
    "pbar.close()\n",
    "plt.show()"
   ],
   "metadata": {
    "collapsed": false
   }
  },
  {
   "cell_type": "markdown",
   "source": [
    "### Patient wise re-assembly\n",
    "We create a python dictionary that has the patient id as keys and all the features are encoded as another dictionary which is the value of patient key."
   ],
   "metadata": {
    "collapsed": false
   }
  },
  {
   "cell_type": "code",
   "execution_count": null,
   "outputs": [],
   "source": [
    "# The following code re-assembles the time series related to each patient\n",
    "patient_map_features = {} # given a patient, the map returns a map that, given feature, returns its whole time series\n",
    "pbar = tqdm(desc=\"Processed patients\", total=len(dataset['patient'].unique()))\n",
    "for pat in dataset['patient'].unique():\n",
    "    temp = dataset[dataset['patient'] == pat]\n",
    "    feature_map_ts = {}\n",
    "    for col in dataset.columns[1:]:\n",
    "        if 'signal' not in col and 'PSG_' not in col:\n",
    "            feature_map_ts[col] = temp[col].values\n",
    "        else:\n",
    "            feature_map_ts[col] = np.concatenate(temp[col].values)\n",
    "    patient_map_features[pat] = feature_map_ts\n",
    "    pbar.update(1)\n",
    "pbar.close()"
   ],
   "metadata": {
    "collapsed": false
   }
  },
  {
   "cell_type": "markdown",
   "source": [
    "### Example plots using the above dictionary\n",
    "We can now plot any feature value by giving the patient id and column name. We can also control how much information to show by slicing the data upto our required number of seconds.\n",
    "For example-\n",
    "`patient_map_features['15']['PI(%)'][:20000]` shows the first **20000** seconds of feature **PI(%)** for patient **15**\n",
    "\n",
    "#### Perfusion Index (PI)"
   ],
   "metadata": {
    "collapsed": false
   }
  },
  {
   "cell_type": "code",
   "execution_count": null,
   "outputs": [],
   "source": [
    "# PI time series of patient 1. Observe that there are some outlier values that might be usefult correcting, for example using a weighting average approach.\n",
    "plt.figure(figsize=(20, 6))\n",
    "plt.title('Perfusion Index')\n",
    "plt.plot(patient_map_features['15']['PI(%)'][:20000])\n",
    "plt.show()"
   ],
   "metadata": {
    "collapsed": false
   }
  },
  {
   "cell_type": "markdown",
   "source": [
    "#### SpO2 signal\n",
    "We show another example - first 2000 seconds of SpO2 of patient 10"
   ],
   "metadata": {
    "collapsed": false
   }
  },
  {
   "cell_type": "code",
   "execution_count": null,
   "outputs": [],
   "source": [
    "plt.figure(figsize=(20, 6))\n",
    "plt.title('SpO2')\n",
    "plt.plot(patient_map_features['10']['SpO2(%)'][:2000])\n",
    "plt.show()"
   ],
   "metadata": {
    "collapsed": false
   }
  },
  {
   "cell_type": "markdown",
   "source": [
    "#### PSG Abdomen signal\n",
    "First 2000 seconds of PSG_Abdomen of patient 2"
   ],
   "metadata": {
    "collapsed": false
   }
  },
  {
   "cell_type": "code",
   "execution_count": null,
   "outputs": [],
   "source": [
    "# Outliers produced by movements in patient 10's PSG_Abdomen time series\n",
    "plt.figure(figsize=(20, 6))\n",
    "plt.title('PSG Abdomen')\n",
    "plt.plot(patient_map_features['2']['PSG_Abdomen'][:2000])\n",
    "plt.show()"
   ],
   "metadata": {
    "collapsed": false
   }
  },
  {
   "cell_type": "markdown",
   "source": [
    "#### ECG Signal 2"
   ],
   "metadata": {
    "collapsed": false
   }
  },
  {
   "cell_type": "code",
   "execution_count": null,
   "outputs": [],
   "source": [
    "plt.figure(figsize=(20, 6))\n",
    "plt.plot(patient_map_features['3']['signal_ecg_ii'][:2000])\n",
    "plt.show()"
   ],
   "metadata": {
    "collapsed": false
   }
  },
  {
   "cell_type": "markdown",
   "source": [
    "## PSG Flow"
   ],
   "metadata": {
    "collapsed": false
   }
  },
  {
   "cell_type": "code",
   "execution_count": null,
   "outputs": [],
   "source": [
    "plt.figure(figsize=(20, 6))\n",
    "plt.plot(patient_map_features['3']['PSG_Flow'][:2000])\n",
    "plt.show()"
   ],
   "metadata": {
    "collapsed": false
   }
  },
  {
   "cell_type": "markdown",
   "source": [],
   "metadata": {
    "collapsed": false
   }
  }
 ],
 "metadata": {
  "kernelspec": {
   "display_name": "Python 3",
   "language": "python",
   "name": "python3"
  },
  "language_info": {
   "codemirror_mode": {
    "name": "ipython",
    "version": 2
   },
   "file_extension": ".py",
   "mimetype": "text/x-python",
   "name": "python",
   "nbconvert_exporter": "python",
   "pygments_lexer": "ipython2",
   "version": "2.7.6"
  }
 },
 "nbformat": 4,
 "nbformat_minor": 0
}
