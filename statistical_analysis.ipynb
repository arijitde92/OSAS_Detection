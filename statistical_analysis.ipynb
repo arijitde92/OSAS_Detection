{
 "cells": [
  {
   "cell_type": "code",
   "execution_count": 54,
   "metadata": {
    "collapsed": true,
    "ExecuteTime": {
     "end_time": "2023-10-30T10:36:27.150666100Z",
     "start_time": "2023-10-30T10:36:23.564735900Z"
    }
   },
   "outputs": [],
   "source": [
    "import numpy as np\n",
    "import pickle\n",
    "import os\n",
    "from scipy.stats import ttest_ind\n",
    "import seaborn as sns"
   ]
  },
  {
   "cell_type": "code",
   "execution_count": 2,
   "outputs": [],
   "source": [
    "DATA_FILE_NAME = 'osasud_numpy_dict.pkl'\n",
    "DATA_DIR = 'data'"
   ],
   "metadata": {
    "collapsed": false,
    "ExecuteTime": {
     "end_time": "2023-10-30T10:06:43.716419200Z",
     "start_time": "2023-10-30T10:06:43.703484900Z"
    }
   }
  },
  {
   "cell_type": "code",
   "execution_count": 3,
   "outputs": [],
   "source": [
    "with open(os.path.join(DATA_DIR, DATA_FILE_NAME), 'rb') as f:  # read preprocessing result\n",
    "    data_dict = pickle.load(f)\n",
    "derived_data = data_dict['derived']\n",
    "waveform_data = data_dict['waveform']\n",
    "psg_data = data_dict['psg']\n",
    "binary_labels = data_dict['binary_labels']\n",
    "multi_class_labels = data_dict['multi_label']"
   ],
   "metadata": {
    "collapsed": false,
    "ExecuteTime": {
     "end_time": "2023-10-30T10:06:46.023958200Z",
     "start_time": "2023-10-30T10:06:43.715416100Z"
    }
   }
  },
  {
   "cell_type": "code",
   "execution_count": 23,
   "outputs": [],
   "source": [
    "psg_data_disease = psg_data[:int(len(psg_data)/2)]\n",
    "psg_data_normal = psg_data[int(len(psg_data)/2):]"
   ],
   "metadata": {
    "collapsed": false,
    "ExecuteTime": {
     "end_time": "2023-10-30T10:12:25.186771Z",
     "start_time": "2023-10-30T10:12:25.157481100Z"
    }
   }
  },
  {
   "cell_type": "code",
   "execution_count": 48,
   "outputs": [],
   "source": [
    "waveform_data_disease = waveform_data[:int(len(waveform_data)/2),:,1:]\n",
    "waveform_data_normal = waveform_data[int(len(waveform_data)/2):,:,1:]"
   ],
   "metadata": {
    "collapsed": false,
    "ExecuteTime": {
     "end_time": "2023-10-30T10:30:18.645605200Z",
     "start_time": "2023-10-30T10:30:18.638602500Z"
    }
   }
  },
  {
   "cell_type": "code",
   "execution_count": 50,
   "outputs": [],
   "source": [
    "derived_data_disease = derived_data[:int(len(derived_data)/2)]\n",
    "derived_data_normal = derived_data[int(len(derived_data)/2):]"
   ],
   "metadata": {
    "collapsed": false,
    "ExecuteTime": {
     "end_time": "2023-10-30T10:31:03.948656Z",
     "start_time": "2023-10-30T10:31:03.920057300Z"
    }
   }
  },
  {
   "cell_type": "code",
   "execution_count": 28,
   "outputs": [
    {
     "data": {
      "text/plain": "array([-0.08316733, -0.00143888, -0.07738928,  0.2023377 , -0.06219007])"
     },
     "execution_count": 28,
     "metadata": {},
     "output_type": "execute_result"
    }
   ],
   "source": [
    "np.mean(np.mean(psg_data_disease, axis=1), axis=0)"
   ],
   "metadata": {
    "collapsed": false,
    "ExecuteTime": {
     "end_time": "2023-10-30T10:13:26.091029200Z",
     "start_time": "2023-10-30T10:13:26.051452200Z"
    }
   }
  },
  {
   "cell_type": "code",
   "execution_count": 27,
   "outputs": [
    {
     "data": {
      "text/plain": "array([ 0.02361762, -0.00635807,  0.07137443,  0.44395985,  0.016598  ])"
     },
     "execution_count": 27,
     "metadata": {},
     "output_type": "execute_result"
    }
   ],
   "source": [
    "np.mean(np.mean(psg_data_normal, axis=1), axis=0)"
   ],
   "metadata": {
    "collapsed": false,
    "ExecuteTime": {
     "end_time": "2023-10-30T10:13:10.597877600Z",
     "start_time": "2023-10-30T10:13:10.564309300Z"
    }
   }
  },
  {
   "cell_type": "code",
   "execution_count": 29,
   "outputs": [
    {
     "data": {
      "text/plain": "array([0.10223265, 0.21384938, 0.00636434, 0.12133027, 0.07652145])"
     },
     "execution_count": 29,
     "metadata": {},
     "output_type": "execute_result"
    }
   ],
   "source": [
    "np.mean(np.std(psg_data_disease, axis=1), axis=0)"
   ],
   "metadata": {
    "collapsed": false,
    "ExecuteTime": {
     "end_time": "2023-10-30T10:14:12.688611500Z",
     "start_time": "2023-10-30T10:14:12.607033800Z"
    }
   }
  },
  {
   "cell_type": "code",
   "execution_count": 30,
   "outputs": [
    {
     "data": {
      "text/plain": "array([0.10223265, 0.21384938, 0.00636434, 0.12133027, 0.07652145])"
     },
     "execution_count": 30,
     "metadata": {},
     "output_type": "execute_result"
    }
   ],
   "source": [
    "np.mean(np.std(psg_data_disease, axis=1), axis=0)"
   ],
   "metadata": {
    "collapsed": false,
    "ExecuteTime": {
     "end_time": "2023-10-30T10:14:18.356081300Z",
     "start_time": "2023-10-30T10:14:18.278492900Z"
    }
   }
  },
  {
   "cell_type": "code",
   "execution_count": 43,
   "outputs": [
    {
     "data": {
      "text/plain": "array([-0.42420276,  0.68673739, -0.19948616, ...,  0.51316725,\n       -0.74733348, -0.0668411 ])"
     },
     "execution_count": 43,
     "metadata": {},
     "output_type": "execute_result"
    }
   ],
   "source": [
    "np.mean(psg_data_disease[:,:,0], axis=1)"
   ],
   "metadata": {
    "collapsed": false,
    "ExecuteTime": {
     "end_time": "2023-10-30T10:27:08.535169700Z",
     "start_time": "2023-10-30T10:27:08.523168600Z"
    }
   }
  },
  {
   "cell_type": "code",
   "execution_count": 44,
   "outputs": [
    {
     "name": "stdout",
     "output_type": "stream",
     "text": [
      "TtestResult(statistic=-45.972121727202435, pvalue=0.0, df=290654.0)\n",
      "TtestResult(statistic=1.483617996983169, pvalue=0.13791137647883933, df=290654.0)\n",
      "TtestResult(statistic=-48.43012335664294, pvalue=0.0, df=290654.0)\n",
      "TtestResult(statistic=-138.95237120449684, pvalue=0.0, df=290654.0)\n",
      "TtestResult(statistic=-31.12236857863712, pvalue=2.6891289048044436e-212, df=290654.0)\n"
     ]
    }
   ],
   "source": [
    "for i in range(psg_data.shape[2]):\n",
    "    print(ttest_ind(np.mean(psg_data_disease[:,:,i], axis=1), np.mean(psg_data_normal[:,:,i], axis=1)))"
   ],
   "metadata": {
    "collapsed": false,
    "ExecuteTime": {
     "end_time": "2023-10-30T10:28:04.670357100Z",
     "start_time": "2023-10-30T10:28:04.598776500Z"
    }
   }
  },
  {
   "cell_type": "code",
   "execution_count": 49,
   "outputs": [
    {
     "name": "stdout",
     "output_type": "stream",
     "text": [
      "TtestResult(statistic=nan, pvalue=nan, df=nan)\n",
      "TtestResult(statistic=nan, pvalue=nan, df=nan)\n",
      "TtestResult(statistic=nan, pvalue=nan, df=nan)\n"
     ]
    },
    {
     "ename": "IndexError",
     "evalue": "index 3 is out of bounds for axis 2 with size 3",
     "output_type": "error",
     "traceback": [
      "\u001B[1;31m---------------------------------------------------------------------------\u001B[0m",
      "\u001B[1;31mIndexError\u001B[0m                                Traceback (most recent call last)",
      "Cell \u001B[1;32mIn[49], line 2\u001B[0m\n\u001B[0;32m      1\u001B[0m \u001B[38;5;28;01mfor\u001B[39;00m i \u001B[38;5;129;01min\u001B[39;00m \u001B[38;5;28mrange\u001B[39m(waveform_data\u001B[38;5;241m.\u001B[39mshape[\u001B[38;5;241m2\u001B[39m]):\n\u001B[1;32m----> 2\u001B[0m     \u001B[38;5;28mprint\u001B[39m(ttest_ind(np\u001B[38;5;241m.\u001B[39mmean(\u001B[43mwaveform_data_disease\u001B[49m\u001B[43m[\u001B[49m\u001B[43m:\u001B[49m\u001B[43m,\u001B[49m\u001B[43m:\u001B[49m\u001B[43m,\u001B[49m\u001B[43mi\u001B[49m\u001B[43m]\u001B[49m, axis\u001B[38;5;241m=\u001B[39m\u001B[38;5;241m1\u001B[39m), np\u001B[38;5;241m.\u001B[39mmean(waveform_data_normal[:,:,i], axis\u001B[38;5;241m=\u001B[39m\u001B[38;5;241m1\u001B[39m)))\n",
      "\u001B[1;31mIndexError\u001B[0m: index 3 is out of bounds for axis 2 with size 3"
     ]
    }
   ],
   "source": [
    "for i in range(waveform_data.shape[2]):\n",
    "    print(ttest_ind(np.mean(waveform_data_disease[:,:,i], axis=1), np.mean(waveform_data_normal[:,:,i], axis=1)))"
   ],
   "metadata": {
    "collapsed": false,
    "ExecuteTime": {
     "end_time": "2023-10-30T10:30:24.041326600Z",
     "start_time": "2023-10-30T10:30:23.900730700Z"
    }
   }
  },
  {
   "cell_type": "code",
   "execution_count": 52,
   "outputs": [
    {
     "name": "stdout",
     "output_type": "stream",
     "text": [
      "TtestResult(statistic=nan, pvalue=nan, df=nan)\n",
      "TtestResult(statistic=nan, pvalue=nan, df=nan)\n",
      "TtestResult(statistic=nan, pvalue=nan, df=nan)\n",
      "TtestResult(statistic=nan, pvalue=nan, df=nan)\n",
      "TtestResult(statistic=nan, pvalue=nan, df=nan)\n"
     ]
    }
   ],
   "source": [
    "for i in range(derived_data.shape[1]):\n",
    "    print(ttest_ind(derived_data_disease[:,i], derived_data_normal[:,i]))"
   ],
   "metadata": {
    "collapsed": false,
    "ExecuteTime": {
     "end_time": "2023-10-30T10:32:20.216589Z",
     "start_time": "2023-10-30T10:32:20.202985700Z"
    }
   }
  },
  {
   "cell_type": "code",
   "execution_count": 55,
   "outputs": [
    {
     "data": {
      "text/plain": "<Axes: >"
     },
     "execution_count": 55,
     "metadata": {},
     "output_type": "execute_result"
    },
    {
     "data": {
      "text/plain": "<Figure size 640x480 with 1 Axes>",
      "image/png": "[encoded data removed]"
     },
     "metadata": {},
     "output_type": "display_data"
    }
   ],
   "source": [
    "sns.boxplot([np.mean(psg_data_disease[:,:,0], axis=1), np.mean(psg_data_normal[:,:,0], axis=1)])"
   ],
   "metadata": {
    "collapsed": false,
    "ExecuteTime": {
     "end_time": "2023-10-30T10:36:32.190642700Z",
     "start_time": "2023-10-30T10:36:31.735221800Z"
    }
   }
  },
  {
   "cell_type": "code",
   "execution_count": 56,
   "outputs": [
    {
     "data": {
      "text/plain": "<Axes: >"
     },
     "execution_count": 56,
     "metadata": {},
     "output_type": "execute_result"
    },
    {
     "data": {
      "text/plain": "<Figure size 640x480 with 1 Axes>",
      "image/png": "[encoded data removed]"
     },
     "metadata": {},
     "output_type": "display_data"
    }
   ],
   "source": [
    "sns.boxplot([np.mean(psg_data_disease[:,:,1], axis=1), np.mean(psg_data_normal[:,:,1], axis=1)])"
   ],
   "metadata": {
    "collapsed": false,
    "ExecuteTime": {
     "end_time": "2023-10-30T10:36:35.638869200Z",
     "start_time": "2023-10-30T10:36:35.505730600Z"
    }
   }
  },
  {
   "cell_type": "code",
   "execution_count": 57,
   "outputs": [
    {
     "data": {
      "text/plain": "<Axes: >"
     },
     "execution_count": 57,
     "metadata": {},
     "output_type": "execute_result"
    },
    {
     "data": {
      "text/plain": "<Figure size 640x480 with 1 Axes>",
      "image/png": "[encoded data removed]"
     },
     "metadata": {},
     "output_type": "display_data"
    }
   ],
   "source": [
    "sns.boxplot([np.mean(psg_data_disease[:,:,2], axis=1), np.mean(psg_data_normal[:,:,2], axis=1)])"
   ],
   "metadata": {
    "collapsed": false,
    "ExecuteTime": {
     "end_time": "2023-10-30T10:36:38.190063200Z",
     "start_time": "2023-10-30T10:36:38.078475800Z"
    }
   }
  },
  {
   "cell_type": "code",
   "execution_count": 58,
   "outputs": [
    {
     "data": {
      "text/plain": "<Axes: >"
     },
     "execution_count": 58,
     "metadata": {},
     "output_type": "execute_result"
    },
    {
     "data": {
      "text/plain": "<Figure size 640x480 with 1 Axes>",
      "image/png": "[encoded data removed]"
     },
     "metadata": {},
     "output_type": "display_data"
    }
   ],
   "source": [
    "sns.boxplot([np.mean(psg_data_disease[:,:,3], axis=1), np.mean(psg_data_normal[:,:,3], axis=1)])"
   ],
   "metadata": {
    "collapsed": false,
    "ExecuteTime": {
     "end_time": "2023-10-30T10:36:39.534552500Z",
     "start_time": "2023-10-30T10:36:39.405956Z"
    }
   }
  },
  {
   "cell_type": "code",
   "execution_count": 59,
   "outputs": [
    {
     "data": {
      "text/plain": "<Axes: >"
     },
     "execution_count": 59,
     "metadata": {},
     "output_type": "execute_result"
    },
    {
     "data": {
      "text/plain": "<Figure size 640x480 with 1 Axes>",
      "image/png": "[encoded data removed]"
     },
     "metadata": {},
     "output_type": "display_data"
    }
   ],
   "source": [
    "sns.boxplot([np.mean(psg_data_disease[:,:,4], axis=1), np.mean(psg_data_normal[:,:,4], axis=1)])"
   ],
   "metadata": {
    "collapsed": false,
    "ExecuteTime": {
     "end_time": "2023-10-30T10:36:40.783222600Z",
     "start_time": "2023-10-30T10:36:40.590782800Z"
    }
   }
  },
  {
   "cell_type": "code",
   "execution_count": null,
   "outputs": [],
   "source": [],
   "metadata": {
    "collapsed": false
   }
  }
 ],
 "metadata": {
  "kernelspec": {
   "display_name": "Python 3",
   "language": "python",
   "name": "python3"
  },
  "language_info": {
   "codemirror_mode": {
    "name": "ipython",
    "version": 2
   },
   "file_extension": ".py",
   "mimetype": "text/x-python",
   "name": "python",
   "nbconvert_exporter": "python",
   "pygments_lexer": "ipython2",
   "version": "2.7.6"
  }
 },
 "nbformat": 4,
 "nbformat_minor": 0
}
